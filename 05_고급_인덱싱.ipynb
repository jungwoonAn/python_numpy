{
 "cells": [
  {
   "cell_type": "markdown",
   "metadata": {
    "id": "osltbadsHQEE"
   },
   "source": [
    "# 05_고급 인덱싱\n",
    "### 1. 인덱스 배열로 인덱싱\n",
    "- 배열의 인덱싱을 단일 숫자가 아닌 넘파이 배열을 이용"
   ]
  },
  {
   "cell_type": "code",
   "execution_count": 1,
   "metadata": {
    "id": "QWB5HTAMHNVF"
   },
   "outputs": [],
   "source": [
    "import numpy as np"
   ]
  },
  {
   "cell_type": "code",
   "execution_count": 2,
   "metadata": {
    "id": "OoPgCvqQTGhx"
   },
   "outputs": [],
   "source": [
    "A = np.arange(12)**2"
   ]
  },
  {
   "cell_type": "code",
   "execution_count": 3,
   "metadata": {
    "colab": {
     "base_uri": "https://localhost:8080/"
    },
    "id": "L-HyLs5JTVEP",
    "outputId": "2f4953fc-680e-4f12-a0b4-38b5da59ca43"
   },
   "outputs": [
    {
     "data": {
      "text/plain": [
       "array([  0,   1,   4,   9,  16,  25,  36,  49,  64,  81, 100, 121])"
      ]
     },
     "execution_count": 3,
     "metadata": {},
     "output_type": "execute_result"
    }
   ],
   "source": [
    "A"
   ]
  },
  {
   "cell_type": "code",
   "execution_count": 4,
   "metadata": {
    "colab": {
     "base_uri": "https://localhost:8080/"
    },
    "id": "k4NvO8YLTVsX",
    "outputId": "621947ef-8bfd-41af-e72e-ccbf0e3a8b0c"
   },
   "outputs": [
    {
     "data": {
      "text/plain": [
       "4"
      ]
     },
     "execution_count": 4,
     "metadata": {},
     "output_type": "execute_result"
    }
   ],
   "source": [
    "A[2]"
   ]
  },
  {
   "cell_type": "code",
   "execution_count": 5,
   "metadata": {
    "colab": {
     "base_uri": "https://localhost:8080/"
    },
    "id": "kRTHOuSSTazP",
    "outputId": "d8fba361-c4fc-44aa-810d-a5ac6429eded"
   },
   "outputs": [
    {
     "data": {
      "text/plain": [
       "array([ 4,  9, 16, 25])"
      ]
     },
     "execution_count": 5,
     "metadata": {},
     "output_type": "execute_result"
    }
   ],
   "source": [
    "A[2:6]"
   ]
  },
  {
   "cell_type": "code",
   "execution_count": 6,
   "metadata": {
    "id": "0r05RrG1TcLA"
   },
   "outputs": [],
   "source": [
    "i = np.array([1,1,3,8,5])  # 인덱스를 배열로 저장"
   ]
  },
  {
   "cell_type": "code",
   "execution_count": 7,
   "metadata": {
    "colab": {
     "base_uri": "https://localhost:8080/"
    },
    "id": "fAzg8DQZThIf",
    "outputId": "f18dfd42-b7f5-40e2-acf5-ebf08fc30856"
   },
   "outputs": [
    {
     "data": {
      "text/plain": [
       "array([ 1,  1,  9, 64, 25])"
      ]
     },
     "execution_count": 7,
     "metadata": {},
     "output_type": "execute_result"
    }
   ],
   "source": [
    "A[i]  # 배열을 통한 인덱싱"
   ]
  },
  {
   "cell_type": "code",
   "execution_count": 8,
   "metadata": {
    "id": "xtqpIn1bTi1P"
   },
   "outputs": [],
   "source": [
    " # 인덱스를 2차원으로 생성\n",
    "j = np.array([[3,4], [9,7]])"
   ]
  },
  {
   "cell_type": "code",
   "execution_count": 9,
   "metadata": {
    "colab": {
     "base_uri": "https://localhost:8080/"
    },
    "id": "J0cbz6j6VeNJ",
    "outputId": "022aeaed-f175-4cf3-eb3a-a26d5a914b5c"
   },
   "outputs": [
    {
     "data": {
      "text/plain": [
       "array([[ 9, 16],\n",
       "       [81, 49]])"
      ]
     },
     "execution_count": 9,
     "metadata": {},
     "output_type": "execute_result"
    }
   ],
   "source": [
    "A[j]"
   ]
  },
  {
   "cell_type": "markdown",
   "metadata": {
    "id": "ZTqMHW0pY0u4"
   },
   "source": [
    "=> 배열을 이용한 인덱싱한 결과는 인덱스 배열의 모양을 그대로 따라감"
   ]
  },
  {
   "cell_type": "markdown",
   "metadata": {
    "id": "LzXCEsUnXZGQ"
   },
   "source": [
    "- 이미지 저장을 팔레트의 인덱스 배열을 이용해 저장하는 예(설명하기 위한 예로 이렇게 사용하지는 않음)"
   ]
  },
  {
   "cell_type": "code",
   "execution_count": 10,
   "metadata": {
    "id": "iu140-QWVfUA"
   },
   "outputs": [],
   "source": [
    "palette = np.array([[0,0,0],          # black\n",
    "                    [255,0,0],        # red\n",
    "                    [0,255,0],        # green\n",
    "                    [0,0,255],        # blue\n",
    "                    [255,255,255]])   # white"
   ]
  },
  {
   "cell_type": "code",
   "execution_count": 11,
   "metadata": {
    "id": "4SRxcjYIWSh5"
   },
   "outputs": [],
   "source": [
    "image_index = np.array([[4,4,4,0,0,0,0,4,4,4],\n",
    "                        [4,0,0,4,4,4,4,0,0,4],\n",
    "                        [0,0,4,4,4,4,4,4,0,0],\n",
    "                        [0,4,4,1,4,4,3,4,4,0],\n",
    "                        [0,4,4,1,4,4,3,4,4,0],\n",
    "                        [0,4,4,4,4,4,4,4,4,0],\n",
    "                        [0,4,4,2,4,4,2,4,4,0],\n",
    "                        [4,0,4,4,2,2,4,4,0,4],\n",
    "                        [4,4,0,4,4,4,4,0,4,4],\n",
    "                        [4,4,4,0,0,0,0,4,4,4]])"
   ]
  },
  {
   "cell_type": "code",
   "execution_count": 12,
   "metadata": {
    "id": "nx9S57ESW7rJ"
   },
   "outputs": [],
   "source": [
    "image_data = palette[image_index]"
   ]
  },
  {
   "cell_type": "code",
   "execution_count": 13,
   "metadata": {
    "colab": {
     "base_uri": "https://localhost:8080/",
     "height": 430
    },
    "id": "fj12sZ5yW_7P",
    "outputId": "a38a703d-9873-4f56-c632-cf299f21b33c"
   },
   "outputs": [
    {
     "data": {
      "image/png": "[encoded data removed]",
      "text/plain": [
       "<Figure size 640x480 with 1 Axes>"
      ]
     },
     "metadata": {},
     "output_type": "display_data"
    }
   ],
   "source": [
    "from matplotlib import pyplot as plt\n",
    "%matplotlib inline\n",
    "\n",
    "plt.imshow(image_data, interpolation='nearest')\n",
    "plt.show()"
   ]
  },
  {
   "cell_type": "markdown",
   "metadata": {
    "id": "8cjAF4HCXrnw"
   },
   "source": [
    "### 2. 다차원 인덱싱\n",
    "- 다차원 인덱싱 : 다차원 배열로 인덱스 정의.  \n",
    "  각 차원에 대한 인덱스 배열은 동일한 모양이어야 함."
   ]
  },
  {
   "cell_type": "code",
   "execution_count": 14,
   "metadata": {
    "id": "gPQZMSBQXVOJ"
   },
   "outputs": [],
   "source": [
    "A = np.arange(12).reshape(3,4)"
   ]
  },
  {
   "cell_type": "code",
   "execution_count": 15,
   "metadata": {
    "colab": {
     "base_uri": "https://localhost:8080/"
    },
    "id": "F1Vc266OZfGp",
    "outputId": "2295d444-4f3e-440a-954d-515683186bdc"
   },
   "outputs": [
    {
     "data": {
      "text/plain": [
       "array([[ 0,  1,  2,  3],\n",
       "       [ 4,  5,  6,  7],\n",
       "       [ 8,  9, 10, 11]])"
      ]
     },
     "execution_count": 15,
     "metadata": {},
     "output_type": "execute_result"
    }
   ],
   "source": [
    "A"
   ]
  },
  {
   "cell_type": "code",
   "execution_count": 16,
   "metadata": {
    "colab": {
     "base_uri": "https://localhost:8080/"
    },
    "id": "iXmVxcckZfpo",
    "outputId": "c38c4a88-f50c-4b5d-847a-1155a03d4c59"
   },
   "outputs": [
    {
     "data": {
      "text/plain": [
       "array([[[ 0,  1,  2,  3],\n",
       "        [ 4,  5,  6,  7]],\n",
       "\n",
       "       [[ 4,  5,  6,  7],\n",
       "        [ 8,  9, 10, 11]]])"
      ]
     },
     "execution_count": 16,
     "metadata": {},
     "output_type": "execute_result"
    }
   ],
   "source": [
    "A[np.array([[0,1], [1,2]]),]"
   ]
  },
  {
   "cell_type": "code",
   "execution_count": 17,
   "metadata": {
    "colab": {
     "base_uri": "https://localhost:8080/"
    },
    "id": "eC-feNftZqgg",
    "outputId": "3efdc03b-c2b7-4b41-b245-4d9f7586978c"
   },
   "outputs": [
    {
     "data": {
      "text/plain": [
       "array([[ 2,  5],\n",
       "       [ 7, 11]])"
      ]
     },
     "execution_count": 17,
     "metadata": {},
     "output_type": "execute_result"
    }
   ],
   "source": [
    "A[np.array([[0,1], [1,2]]), np.array([[2,1], [3,3]])]"
   ]
  },
  {
   "cell_type": "markdown",
   "metadata": {
    "id": "dRngVMGzaEWI"
   },
   "source": [
    "=> 인덱스 배열로 인덱싱할 경우 그 결과는 인덱스 배열의 모양과 같다."
   ]
  },
  {
   "cell_type": "markdown",
   "metadata": {
    "id": "snUpGeJzaKao"
   },
   "source": [
    "### 3. 인덱싱을 이용한 값 변경\n",
    "- 배열을 대상으로 인덱싱을 사용해서 값 변경 가능"
   ]
  },
  {
   "cell_type": "code",
   "execution_count": 18,
   "metadata": {
    "id": "Ovx_IYN7Zzbh"
   },
   "outputs": [],
   "source": [
    "A = np.arange(5)"
   ]
  },
  {
   "cell_type": "code",
   "execution_count": 19,
   "metadata": {
    "colab": {
     "base_uri": "https://localhost:8080/"
    },
    "id": "aY1Mp1kkagu5",
    "outputId": "6d22db5b-3261-4fde-d8e3-e3ce61024673"
   },
   "outputs": [
    {
     "data": {
      "text/plain": [
       "array([0, 1, 2, 3, 4])"
      ]
     },
     "execution_count": 19,
     "metadata": {},
     "output_type": "execute_result"
    }
   ],
   "source": [
    "A"
   ]
  },
  {
   "cell_type": "code",
   "execution_count": 20,
   "metadata": {
    "id": "J2KHj7dWahKR"
   },
   "outputs": [],
   "source": [
    "A[[1,3,4]] = 0  # 배열 인덱스를 이용한 값 변경"
   ]
  },
  {
   "cell_type": "code",
   "execution_count": 21,
   "metadata": {
    "colab": {
     "base_uri": "https://localhost:8080/"
    },
    "id": "OZr6Z0N_ajrA",
    "outputId": "67389862-68ae-4163-9aa3-6c440a6889db"
   },
   "outputs": [
    {
     "data": {
      "text/plain": [
       "array([0, 0, 2, 0, 0])"
      ]
     },
     "execution_count": 21,
     "metadata": {},
     "output_type": "execute_result"
    }
   ],
   "source": [
    "A"
   ]
  },
  {
   "cell_type": "code",
   "execution_count": 22,
   "metadata": {
    "colab": {
     "base_uri": "https://localhost:8080/"
    },
    "id": "5o2Gy5_Ca-6S",
    "outputId": "8aca0ab9-b995-41fe-bd43-d7b31751ab6b"
   },
   "outputs": [
    {
     "data": {
      "text/plain": [
       "array([  0, 100,   2,   0,   0])"
      ]
     },
     "execution_count": 22,
     "metadata": {},
     "output_type": "execute_result"
    }
   ],
   "source": [
    "A[1] = 100\n",
    "A"
   ]
  },
  {
   "cell_type": "code",
   "execution_count": 23,
   "metadata": {
    "colab": {
     "base_uri": "https://localhost:8080/",
     "height": 147
    },
    "id": "wuPkZMJLakCY",
    "outputId": "9763d97e-7fe8-4cb1-ca0e-cb48804ed97a"
   },
   "outputs": [
    {
     "ename": "IndexError",
     "evalue": "too many indices for array: array is 1-dimensional, but 3 were indexed",
     "output_type": "error",
     "traceback": [
      "\u001b[0;31m---------------------------------------------------------------------------\u001b[0m",
      "\u001b[0;31mIndexError\u001b[0m                                Traceback (most recent call last)",
      "\u001b[0;32m<ipython-input-23-f74be9be69fa>\u001b[0m in \u001b[0;36m<cell line: 1>\u001b[0;34m()\u001b[0m\n\u001b[0;32m----> 1\u001b[0;31m \u001b[0mA\u001b[0m\u001b[0;34m[\u001b[0m\u001b[0;36m1\u001b[0m\u001b[0;34m,\u001b[0m\u001b[0;36m3\u001b[0m\u001b[0;34m,\u001b[0m\u001b[0;36m4\u001b[0m\u001b[0;34m]\u001b[0m \u001b[0;34m=\u001b[0m \u001b[0;36m10\u001b[0m  \u001b[0;31m# 이것은 축을 이용한 것임.\u001b[0m\u001b[0;34m\u001b[0m\u001b[0;34m\u001b[0m\u001b[0m\n\u001b[0m",
      "\u001b[0;31mIndexError\u001b[0m: too many indices for array: array is 1-dimensional, but 3 were indexed"
     ]
    }
   ],
   "source": [
    "A[1,3,4] = 10  # 이것은 축을 이용한 것임."
   ]
  },
  {
   "cell_type": "code",
   "execution_count": 24,
   "metadata": {
    "id": "rGyJuuGFbZ3F"
   },
   "outputs": [],
   "source": [
    "A = np.arange(5)"
   ]
  },
  {
   "cell_type": "code",
   "execution_count": 25,
   "metadata": {
    "colab": {
     "base_uri": "https://localhost:8080/"
    },
    "id": "8P-Cnos0bqLS",
    "outputId": "3b154802-b08c-4b92-db7d-002bffa60db3"
   },
   "outputs": [
    {
     "data": {
      "text/plain": [
       "array([0, 1, 2, 3, 4])"
      ]
     },
     "execution_count": 25,
     "metadata": {},
     "output_type": "execute_result"
    }
   ],
   "source": [
    "A"
   ]
  },
  {
   "cell_type": "code",
   "execution_count": 26,
   "metadata": {
    "id": "DWBlKPiFbq5q"
   },
   "outputs": [],
   "source": [
    "A[[0,0,2]] = [10,20,30]  # 동일 인덱스를 포함할 경우 가장 마지막 값이 할당"
   ]
  },
  {
   "cell_type": "code",
   "execution_count": 27,
   "metadata": {
    "colab": {
     "base_uri": "https://localhost:8080/"
    },
    "id": "E964rN-zb165",
    "outputId": "04d1d0cf-5911-4694-c673-348a6ccfc5b9"
   },
   "outputs": [
    {
     "data": {
      "text/plain": [
       "array([20,  1, 30,  3,  4])"
      ]
     },
     "execution_count": 27,
     "metadata": {},
     "output_type": "execute_result"
    }
   ],
   "source": [
    "A"
   ]
  },
  {
   "cell_type": "code",
   "execution_count": 28,
   "metadata": {
    "id": "3-iv64xLb2Tp"
   },
   "outputs": [],
   "source": [
    "A = np.arange(5)"
   ]
  },
  {
   "cell_type": "code",
   "execution_count": 29,
   "metadata": {
    "id": "H_tDVEm8b4_y"
   },
   "outputs": [],
   "source": [
    "A[[0,0,2]] += 1  # += 연산자는 예상대로 동작하지 하지않을 수 있음"
   ]
  },
  {
   "cell_type": "code",
   "execution_count": 30,
   "metadata": {
    "colab": {
     "base_uri": "https://localhost:8080/"
    },
    "id": "OYEBN4uBcDoJ",
    "outputId": "0566adfb-89d0-4347-e0f3-a209995b14c4"
   },
   "outputs": [
    {
     "data": {
      "text/plain": [
       "array([1, 1, 3, 3, 4])"
      ]
     },
     "execution_count": 30,
     "metadata": {},
     "output_type": "execute_result"
    }
   ],
   "source": [
    "A"
   ]
  },
  {
   "cell_type": "markdown",
   "metadata": {
    "id": "3UXhmDt3cG8J"
   },
   "source": [
    "### 4. ix_() 함수\n",
    "- **ix_()** : N개의 1차원 시퀀스 입력받아 추출해서 각각 N차원인 N개의 출력을 반환  \n",
    "  (모든 요소들의 연산 쌍을 구할 때 많이 사용)  \n",
    "- 결과의 모양(shape)은 1차원을 제외한 모든 차원이 1"
   ]
  },
  {
   "cell_type": "code",
   "execution_count": 31,
   "metadata": {
    "id": "nQD4cD-icEW5"
   },
   "outputs": [],
   "source": [
    "A = np.array([2,3,4,5])\n",
    "B = np.array([8,5,4])"
   ]
  },
  {
   "cell_type": "code",
   "execution_count": 32,
   "metadata": {
    "colab": {
     "base_uri": "https://localhost:8080/"
    },
    "id": "c9uB0Bj0cs3i",
    "outputId": "8dca0a8d-31b1-48dc-aa1c-7a9a2d964e38"
   },
   "outputs": [
    {
     "data": {
      "text/plain": [
       "(array([[2],\n",
       "        [3],\n",
       "        [4],\n",
       "        [5]]),\n",
       " array([[8, 5, 4]]))"
      ]
     },
     "execution_count": 32,
     "metadata": {},
     "output_type": "execute_result"
    }
   ],
   "source": [
    "np.ix_(A, B)  # 1차원 2개를 입력받아서 -> 2차원, A는 1축으로 B는 2축으로 반환"
   ]
  },
  {
   "cell_type": "code",
   "execution_count": 33,
   "metadata": {
    "id": "_rpoEGNEcupx"
   },
   "outputs": [],
   "source": [
    "A = np.array([2,3,4,5])\n",
    "B = np.array([8,5,4])\n",
    "C = np.array([5,4,6,8,3])"
   ]
  },
  {
   "cell_type": "code",
   "execution_count": 34,
   "metadata": {
    "colab": {
     "base_uri": "https://localhost:8080/"
    },
    "id": "N9p1QBoUdRoh",
    "outputId": "45b89ddf-e865-404e-dd85-0072027d60a3"
   },
   "outputs": [
    {
     "data": {
      "text/plain": [
       "(array([[[2]],\n",
       " \n",
       "        [[3]],\n",
       " \n",
       "        [[4]],\n",
       " \n",
       "        [[5]]]),\n",
       " array([[[8],\n",
       "         [5],\n",
       "         [4]]]),\n",
       " array([[[5, 4, 6, 8, 3]]]))"
      ]
     },
     "execution_count": 34,
     "metadata": {},
     "output_type": "execute_result"
    }
   ],
   "source": [
    "np.ix_(A, B, C)  # 1차원 3개 입력 -> 3차원, A는 0축, B는 1축, C는 2축으로 반환"
   ]
  },
  {
   "cell_type": "markdown",
   "metadata": {
    "id": "Xqo2vuOed9xJ"
   },
   "source": [
    "- A, B, C 배열의 모든 쌍에 대해서A + B * C를 계산할 때 ix_() 함수를 사용  "
   ]
  },
  {
   "cell_type": "code",
   "execution_count": 35,
   "metadata": {
    "id": "Y0FDOfjTdiip"
   },
   "outputs": [],
   "source": [
    "AX, BX = np.ix_(A,B)"
   ]
  },
  {
   "cell_type": "code",
   "execution_count": 36,
   "metadata": {
    "colab": {
     "base_uri": "https://localhost:8080/"
    },
    "id": "i1jRKP8SeXEi",
    "outputId": "63a422be-b7c9-461d-d442-70768bf809e8"
   },
   "outputs": [
    {
     "data": {
      "text/plain": [
       "array([[10,  7,  6],\n",
       "       [11,  8,  7],\n",
       "       [12,  9,  8],\n",
       "       [13, 10,  9]])"
      ]
     },
     "execution_count": 36,
     "metadata": {},
     "output_type": "execute_result"
    }
   ],
   "source": [
    "AX + BX"
   ]
  },
  {
   "cell_type": "code",
   "execution_count": 37,
   "metadata": {
    "id": "SXwADp6ceYRJ"
   },
   "outputs": [],
   "source": [
    "# A + B * C\n",
    "AX, BX, CX = np.ix_(A,B,C)"
   ]
  },
  {
   "cell_type": "code",
   "execution_count": 38,
   "metadata": {
    "colab": {
     "base_uri": "https://localhost:8080/"
    },
    "id": "hrlckpv2ep85",
    "outputId": "8ac42d75-f072-4197-ff90-7b402df6eb67"
   },
   "outputs": [
    {
     "data": {
      "text/plain": [
       "array([[[42, 34, 50, 66, 26],\n",
       "        [27, 22, 32, 42, 17],\n",
       "        [22, 18, 26, 34, 14]],\n",
       "\n",
       "       [[43, 35, 51, 67, 27],\n",
       "        [28, 23, 33, 43, 18],\n",
       "        [23, 19, 27, 35, 15]],\n",
       "\n",
       "       [[44, 36, 52, 68, 28],\n",
       "        [29, 24, 34, 44, 19],\n",
       "        [24, 20, 28, 36, 16]],\n",
       "\n",
       "       [[45, 37, 53, 69, 29],\n",
       "        [30, 25, 35, 45, 20],\n",
       "        [25, 21, 29, 37, 17]]])"
      ]
     },
     "execution_count": 38,
     "metadata": {},
     "output_type": "execute_result"
    }
   ],
   "source": [
    "AX + BX * CX"
   ]
  },
  {
   "cell_type": "markdown",
   "metadata": {
    "id": "voFHJKiyeuGL"
   },
   "source": [
    "### 5. 리듀스 함수 구현\n",
    "- **리듀스함수** : 매개변수로 함수와 값들(iterable)을 입력받아 각 요소들에 함수를 적용하고 하나의 결과값을 반환하는 함수  "
   ]
  },
  {
   "cell_type": "code",
   "execution_count": 39,
   "metadata": {
    "id": "e_d2N46xe40R"
   },
   "outputs": [],
   "source": [
    "A = np.array([2,3,4,5])\n",
    "B = np.array([8,5,4])"
   ]
  },
  {
   "cell_type": "code",
   "execution_count": 40,
   "metadata": {
    "id": "47EQ4GYHfITa"
   },
   "outputs": [],
   "source": [
    "def reduce_func(*arrs, func=np.add):\n",
    "    aix = np.ix_(*arrs)\n",
    "    result = aix[0]\n",
    "\n",
    "    for item in aix[1:]:\n",
    "        result = func(result, item)\n",
    "    return result"
   ]
  },
  {
   "cell_type": "markdown",
   "metadata": {
    "id": "w6flxnAzfokC"
   },
   "source": [
    "=> ix_() 함수를 응용해서 1차원 배열과 함수(np.add 또는 np.multiply)를 입력받아 배열의 모든 가능한 조합의 연산을 구한 후 하나의 값을 반환하는 함수를 만들 수 있음"
   ]
  },
  {
   "cell_type": "code",
   "execution_count": 41,
   "metadata": {
    "colab": {
     "base_uri": "https://localhost:8080/"
    },
    "id": "o7W6h_qvf9O6",
    "outputId": "e86d9674-87bf-460d-8cf3-1a2cbbb4f129"
   },
   "outputs": [
    {
     "data": {
      "text/plain": [
       "array([2, 3, 4, 5])"
      ]
     },
     "execution_count": 41,
     "metadata": {},
     "output_type": "execute_result"
    }
   ],
   "source": [
    "A"
   ]
  },
  {
   "cell_type": "code",
   "execution_count": 42,
   "metadata": {
    "colab": {
     "base_uri": "https://localhost:8080/"
    },
    "id": "nu1SPNx1f-Cy",
    "outputId": "bfc6931d-b8ad-448a-d958-25533e1e6881"
   },
   "outputs": [
    {
     "data": {
      "text/plain": [
       "array([8, 5, 4])"
      ]
     },
     "execution_count": 42,
     "metadata": {},
     "output_type": "execute_result"
    }
   ],
   "source": [
    "B"
   ]
  },
  {
   "cell_type": "code",
   "execution_count": 43,
   "metadata": {
    "colab": {
     "base_uri": "https://localhost:8080/"
    },
    "id": "MXqVGdqrfXRS",
    "outputId": "8784bc49-4b76-42ba-8fce-23ad53324d94"
   },
   "outputs": [
    {
     "data": {
      "text/plain": [
       "array([[10,  7,  6],\n",
       "       [11,  8,  7],\n",
       "       [12,  9,  8],\n",
       "       [13, 10,  9]])"
      ]
     },
     "execution_count": 43,
     "metadata": {},
     "output_type": "execute_result"
    }
   ],
   "source": [
    "reduce_func(A, B)"
   ]
  },
  {
   "cell_type": "code",
   "execution_count": 44,
   "metadata": {
    "colab": {
     "base_uri": "https://localhost:8080/"
    },
    "id": "hoKL-k9Rf1TC",
    "outputId": "3ef38285-21f9-444b-bd0f-a64f720cc3d8"
   },
   "outputs": [
    {
     "data": {
      "text/plain": [
       "array([[0.25 , 0.4  , 0.5  ],\n",
       "       [0.375, 0.6  , 0.75 ],\n",
       "       [0.5  , 0.8  , 1.   ],\n",
       "       [0.625, 1.   , 1.25 ]])"
      ]
     },
     "execution_count": 44,
     "metadata": {},
     "output_type": "execute_result"
    }
   ],
   "source": [
    "reduce_func(A,B, func=np.divide)"
   ]
  },
  {
   "cell_type": "markdown",
   "metadata": {
    "id": "40TnyfvQgV_x"
   },
   "source": [
    "- 논리값을 이용해서 인덱싱 가능"
   ]
  },
  {
   "cell_type": "code",
   "execution_count": 45,
   "metadata": {
    "id": "RAN1b3JUf6UD"
   },
   "outputs": [],
   "source": [
    "A = np.arange(20).reshape(4,5)"
   ]
  },
  {
   "cell_type": "code",
   "execution_count": 46,
   "metadata": {
    "colab": {
     "base_uri": "https://localhost:8080/"
    },
    "id": "Qd8h8C4igNIq",
    "outputId": "0e25cb78-62fe-4a20-d815-d3bb904bf01a"
   },
   "outputs": [
    {
     "data": {
      "text/plain": [
       "array([[ 0,  1,  2,  3,  4],\n",
       "       [ 5,  6,  7,  8,  9],\n",
       "       [10, 11, 12, 13, 14],\n",
       "       [15, 16, 17, 18, 19]])"
      ]
     },
     "execution_count": 46,
     "metadata": {},
     "output_type": "execute_result"
    }
   ],
   "source": [
    "A"
   ]
  },
  {
   "cell_type": "code",
   "execution_count": 47,
   "metadata": {
    "colab": {
     "base_uri": "https://localhost:8080/"
    },
    "id": "39KXtnRPgNlS",
    "outputId": "2a465bfe-a877-4942-91a2-ba257cbd529b"
   },
   "outputs": [
    {
     "data": {
      "text/plain": [
       "array([[ True, False,  True, False,  True],\n",
       "       [False,  True, False,  True, False],\n",
       "       [ True, False,  True, False,  True],\n",
       "       [False,  True, False,  True, False]])"
      ]
     },
     "execution_count": 47,
     "metadata": {},
     "output_type": "execute_result"
    }
   ],
   "source": [
    "A % 2 == 0"
   ]
  },
  {
   "cell_type": "code",
   "execution_count": 48,
   "metadata": {
    "colab": {
     "base_uri": "https://localhost:8080/"
    },
    "id": "DEfpewAagP_6",
    "outputId": "85b1f04d-337d-4449-febd-44ec3cf7e973"
   },
   "outputs": [
    {
     "data": {
      "text/plain": [
       "array([ 0,  2,  4,  6,  8, 10, 12, 14, 16, 18])"
      ]
     },
     "execution_count": 48,
     "metadata": {},
     "output_type": "execute_result"
    }
   ],
   "source": [
    "A[A%2 == 0]"
   ]
  },
  {
   "cell_type": "markdown",
   "metadata": {
    "id": "L5o4LllqgtwK"
   },
   "source": [
    "- 논리배열을 이용해서 인덱싱을 할 때에도 할당값을 받을 수 있음"
   ]
  },
  {
   "cell_type": "code",
   "execution_count": 49,
   "metadata": {
    "id": "79PWU5ahgSWC"
   },
   "outputs": [],
   "source": [
    "A[A%2 == 0] = A[A%2 == 0]**2"
   ]
  },
  {
   "cell_type": "code",
   "execution_count": 50,
   "metadata": {
    "colab": {
     "base_uri": "https://localhost:8080/"
    },
    "id": "ARemCfVtg940",
    "outputId": "c95507d8-f738-4d8a-e0a9-922684f71a3d"
   },
   "outputs": [
    {
     "data": {
      "text/plain": [
       "array([[  0,   1,   4,   3,  16],\n",
       "       [  5,  36,   7,  64,   9],\n",
       "       [100,  11, 144,  13, 196],\n",
       "       [ 15, 256,  17, 324,  19]])"
      ]
     },
     "execution_count": 50,
     "metadata": {},
     "output_type": "execute_result"
    }
   ],
   "source": [
    "A"
   ]
  },
  {
   "cell_type": "code",
   "execution_count": 51,
   "metadata": {
    "id": "PYu32WcXhBTJ"
   },
   "outputs": [],
   "source": [
    "A[A%2 == 0] = 0"
   ]
  },
  {
   "cell_type": "code",
   "execution_count": 52,
   "metadata": {
    "colab": {
     "base_uri": "https://localhost:8080/"
    },
    "id": "WmLenXMNhFEi",
    "outputId": "efde47aa-84b2-413f-fffd-888ab63c9adb"
   },
   "outputs": [
    {
     "data": {
      "text/plain": [
       "array([[ 0,  1,  0,  3,  0],\n",
       "       [ 5,  0,  7,  0,  9],\n",
       "       [ 0, 11,  0, 13,  0],\n",
       "       [15,  0, 17,  0, 19]])"
      ]
     },
     "execution_count": 52,
     "metadata": {},
     "output_type": "execute_result"
    }
   ],
   "source": [
    "A"
   ]
  },
  {
   "cell_type": "markdown",
   "metadata": {
    "id": "HmHPVBeohMnD"
   },
   "source": [
    "[정리]\n",
    "\n",
    "    - 인덱스 배열로 인덱싱  \n",
    "    - ix_()"
   ]
  }
 ],
 "metadata": {
  "colab": {
   "provenance": []
  },
  "kernelspec": {
   "display_name": "Python 3 (ipykernel)",
   "language": "python",
   "name": "python3"
  },
  "language_info": {
   "codemirror_mode": {
    "name": "ipython",
    "version": 3
   },
   "file_extension": ".py",
   "mimetype": "text/x-python",
   "name": "python",
   "nbconvert_exporter": "python",
   "pygments_lexer": "ipython3",
   "version": "3.11.5"
  }
 },
 "nbformat": 4,
 "nbformat_minor": 1
}
