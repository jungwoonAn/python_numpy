{
 "cells": [
  {
   "cell_type": "markdown",
   "metadata": {
    "id": "FsNcHi2Xt5mf"
   },
   "source": [
    "# 02_넘파이 배열\n",
    "### 넘파이 배열 만드는 방법\n",
    "- array() 함수를 이용한 다른 파이썬구조(예: 리스트, 튜플)로부터의 변환  \n",
    "- 넘파이 배열을 생성하는 함수 이용(예: arange, ones, zeros, 등.)  \n",
    "- 표준 형식 또는사용자 정의 형식으로 디스크에서 배열 읽기  \n",
    "- 문자열이나 버퍼를 사용하여 원시 바이트에서 배열 만들기  \n",
    "- 특수 라이브러리 함수(예: random) 이용  \n",
    "\n",
    "참고: https://docs.scipy.org/doc/numpy/index.html"
   ]
  },
  {
   "cell_type": "markdown",
   "metadata": {
    "id": "LLG8FR7AvBEH"
   },
   "source": [
    "### 1. array() 함수를 사용하여 리스트 또는 튜플로부터 넘파이 배열을 생성\n",
    "    numpy.array(object, dtype=None, copy=True)"
   ]
  },
  {
   "cell_type": "code",
   "execution_count": 1,
   "metadata": {
    "id": "G6Z6_Ia0tRD3"
   },
   "outputs": [],
   "source": [
    "import numpy as np"
   ]
  },
  {
   "cell_type": "code",
   "execution_count": 2,
   "metadata": {
    "colab": {
     "base_uri": "https://localhost:8080/"
    },
    "id": "aUxpR5UjtNkn",
    "outputId": "5030ea9d-d6ca-4094-ee43-963a117eed5c"
   },
   "outputs": [
    {
     "data": {
      "text/plain": [
       "array([2, 3, 4])"
      ]
     },
     "execution_count": 2,
     "metadata": {},
     "output_type": "execute_result"
    }
   ],
   "source": [
    "A = np.array([2,3,4])\n",
    "A"
   ]
  },
  {
   "cell_type": "code",
   "execution_count": 3,
   "metadata": {
    "colab": {
     "base_uri": "https://localhost:8080/"
    },
    "id": "8Oi5joHMxC0B",
    "outputId": "29ef4518-aee1-4c4c-c05b-ff14a389d5bf"
   },
   "outputs": [
    {
     "data": {
      "text/plain": [
       "dtype('int64')"
      ]
     },
     "execution_count": 3,
     "metadata": {},
     "output_type": "execute_result"
    }
   ],
   "source": [
    "A.dtype"
   ]
  },
  {
   "cell_type": "code",
   "execution_count": 4,
   "metadata": {
    "colab": {
     "base_uri": "https://localhost:8080/"
    },
    "id": "_T5H_ZU-xEZY",
    "outputId": "552005dc-a12c-43ff-e183-db3582a8bddb"
   },
   "outputs": [
    {
     "data": {
      "text/plain": [
       "dtype('float64')"
      ]
     },
     "execution_count": 4,
     "metadata": {},
     "output_type": "execute_result"
    }
   ],
   "source": [
    "# 결과 배열의 유형은 리스트 또는 튜플의 요소 유형에서 추론됨\n",
    "B = np.array([1.2, 3.5, 5.1])\n",
    "B.dtype"
   ]
  },
  {
   "cell_type": "code",
   "execution_count": 5,
   "metadata": {
    "colab": {
     "base_uri": "https://localhost:8080/"
    },
    "id": "McAk4vFNxTpg",
    "outputId": "0328507c-391c-4aa4-fd42-d00197b3dd07"
   },
   "outputs": [
    {
     "data": {
      "text/plain": [
       "array([[1.+0.j, 2.+0.j],\n",
       "       [3.+0.j, 4.+0.j]])"
      ]
     },
     "execution_count": 5,
     "metadata": {},
     "output_type": "execute_result"
    }
   ],
   "source": [
    "C = np.array([[1,2], [3,4]], dtype=complex)  # dtype=complex 은 복소수\n",
    "C"
   ]
  },
  {
   "cell_type": "code",
   "execution_count": 6,
   "metadata": {
    "id": "pZW8lGT7xh0A"
   },
   "outputs": [],
   "source": [
    "D = np.array(C, copy=False)"
   ]
  },
  {
   "cell_type": "code",
   "execution_count": 7,
   "metadata": {
    "colab": {
     "base_uri": "https://localhost:8080/"
    },
    "id": "WdLAJRe-xx6j",
    "outputId": "809e6161-8b17-4d71-dee5-1765d991020c"
   },
   "outputs": [
    {
     "data": {
      "text/plain": [
       "(132109756431216, 132109756431216)"
      ]
     },
     "execution_count": 7,
     "metadata": {},
     "output_type": "execute_result"
    }
   ],
   "source": [
    "# copy=False이고 dtype을 지정하지 않으면 새로운 배열의 복사본을 생성하지 않음(즉, 같은 값을 참조함)\n",
    "id(C), id(D)"
   ]
  },
  {
   "cell_type": "code",
   "execution_count": 8,
   "metadata": {
    "colab": {
     "base_uri": "https://localhost:8080/"
    },
    "id": "VCYRbjSfxd74",
    "outputId": "298a037d-9bec-43a5-cd74-1c6d4be03b46"
   },
   "outputs": [
    {
     "data": {
      "text/plain": [
       "(132109756810032, 132109770956720)"
      ]
     },
     "execution_count": 8,
     "metadata": {},
     "output_type": "execute_result"
    }
   ],
   "source": [
    "E = np.array(A, copy=True)  # copy=True 는 새로운 배열 생성\n",
    "id(E), id(A)"
   ]
  },
  {
   "cell_type": "markdown",
   "metadata": {
    "id": "jK9yYyx3zBQH"
   },
   "source": [
    "### 2. 기본값이 있는 배열 만들기\n",
    "초기 특정 값으로 채워진 배열을 만드는 몇 가지 기능을 제공\n",
    "- **empty()** : 초기 내용이 임의이고 메모리의 상태에 따라 달라지는 배열  \n",
    "- **zeros()** : 0으로 채워진 배열  \n",
    "- **ones()** : 1로 구성된 배열  \n",
    "- 배열의 dtype은 float64  \n",
    "- 원하면 dtype 속성으로 타입 지정 가능"
   ]
  },
  {
   "cell_type": "code",
   "execution_count": 9,
   "metadata": {
    "colab": {
     "base_uri": "https://localhost:8080/"
    },
    "id": "8CcyaGp6zQG6",
    "outputId": "159fdbcb-0733-46a1-d34b-7e888ad7608d"
   },
   "outputs": [
    {
     "data": {
      "text/plain": [
       "array([[0., 0., 0., 0.],\n",
       "       [0., 0., 0., 0.],\n",
       "       [0., 0., 0., 0.]])"
      ]
     },
     "execution_count": 9,
     "metadata": {},
     "output_type": "execute_result"
    }
   ],
   "source": [
    "np.zeros((3,4))"
   ]
  },
  {
   "cell_type": "code",
   "execution_count": 10,
   "metadata": {
    "colab": {
     "base_uri": "https://localhost:8080/"
    },
    "id": "xlxqyjy5y77B",
    "outputId": "5d7e7f20-452e-491a-b839-ead4216e237e"
   },
   "outputs": [
    {
     "data": {
      "text/plain": [
       "array([[[1, 1, 1, 1],\n",
       "        [1, 1, 1, 1],\n",
       "        [1, 1, 1, 1]],\n",
       "\n",
       "       [[1, 1, 1, 1],\n",
       "        [1, 1, 1, 1],\n",
       "        [1, 1, 1, 1]]], dtype=int16)"
      ]
     },
     "execution_count": 10,
     "metadata": {},
     "output_type": "execute_result"
    }
   ],
   "source": [
    "np.ones((2,3,4), dtype=np.int16)  # 요소 하나의 크기가 2바이트로 메모리 공간을 줄일 수 있음"
   ]
  },
  {
   "cell_type": "code",
   "execution_count": 11,
   "metadata": {
    "colab": {
     "base_uri": "https://localhost:8080/"
    },
    "id": "_pLrjyPuz9uB",
    "outputId": "0bfb8847-5e37-4659-b797-6cdfd50cbca5"
   },
   "outputs": [
    {
     "data": {
      "text/plain": [
       "array([[4.93245350e-310, 0.00000000e+000, 6.52710007e-310],\n",
       "       [3.17971080e+226, 0.00000000e+000, 0.00000000e+000]])"
      ]
     },
     "execution_count": 11,
     "metadata": {},
     "output_type": "execute_result"
    }
   ],
   "source": [
    "np.empty((2,3))  # 메모리 상태에 따라 달라짐"
   ]
  },
  {
   "cell_type": "markdown",
   "metadata": {
    "id": "OhOMd5Xn0fPQ"
   },
   "source": [
    "### 3. 연속된 값을 갖는 배열 만들기\n",
    "- **arange()** : from부터 to까지(포함 안함) by씩 건너뛴 값 목록을 생성.  \n",
    "        numpy.arange([from, ]to, [by, ]dtype=None)\n",
    "- **linspace()** : begin부터 end까지(포함) num개 목록을 생성  \n",
    "        numpy.linspace(begin, end, num=50)"
   ]
  },
  {
   "cell_type": "code",
   "execution_count": 12,
   "metadata": {
    "colab": {
     "base_uri": "https://localhost:8080/"
    },
    "id": "9N-bmlnF0TQg",
    "outputId": "f7e22737-ca25-499c-c539-e9e8a7d4b002"
   },
   "outputs": [
    {
     "data": {
      "text/plain": [
       "array([0, 1, 2, 3, 4, 5, 6, 7, 8, 9])"
      ]
     },
     "execution_count": 12,
     "metadata": {},
     "output_type": "execute_result"
    }
   ],
   "source": [
    "np.arange(10)"
   ]
  },
  {
   "cell_type": "code",
   "execution_count": 13,
   "metadata": {
    "colab": {
     "base_uri": "https://localhost:8080/"
    },
    "id": "sP9W7Vhz2cQL",
    "outputId": "8b3312fd-2013-4cea-ee76-02d156635848"
   },
   "outputs": [
    {
     "data": {
      "text/plain": [
       "array([11, 12, 13, 14, 15, 16, 17, 18, 19])"
      ]
     },
     "execution_count": 13,
     "metadata": {},
     "output_type": "execute_result"
    }
   ],
   "source": [
    "np.arange(11,20)"
   ]
  },
  {
   "cell_type": "code",
   "execution_count": 14,
   "metadata": {
    "colab": {
     "base_uri": "https://localhost:8080/"
    },
    "id": "X9ia4PBX2d_r",
    "outputId": "e6ad71b1-daa1-4bac-999a-f42e9aca1344"
   },
   "outputs": [
    {
     "data": {
      "text/plain": [
       "array([10, 15, 20, 25])"
      ]
     },
     "execution_count": 14,
     "metadata": {},
     "output_type": "execute_result"
    }
   ],
   "source": [
    "np.arange(10, 30, 5)"
   ]
  },
  {
   "cell_type": "code",
   "execution_count": 15,
   "metadata": {
    "colab": {
     "base_uri": "https://localhost:8080/"
    },
    "id": "kHC7A1uV2ibJ",
    "outputId": "1c2cd8c1-53ee-40a6-9aac-3826162959f1"
   },
   "outputs": [
    {
     "data": {
      "text/plain": [
       "array([0. , 0.3, 0.6, 0.9, 1.2, 1.5, 1.8])"
      ]
     },
     "execution_count": 15,
     "metadata": {},
     "output_type": "execute_result"
    }
   ],
   "source": [
    "np.arange(0, 2, 0.3)"
   ]
  },
  {
   "cell_type": "code",
   "execution_count": 16,
   "metadata": {
    "colab": {
     "base_uri": "https://localhost:8080/"
    },
    "id": "6_rkSwSl2mvB",
    "outputId": "7ea73049-aa77-4d34-c1a5-78f67a41d9a1"
   },
   "outputs": [
    {
     "data": {
      "text/plain": [
       "array([0.        , 0.04081633, 0.08163265, 0.12244898, 0.16326531,\n",
       "       0.20408163, 0.24489796, 0.28571429, 0.32653061, 0.36734694,\n",
       "       0.40816327, 0.44897959, 0.48979592, 0.53061224, 0.57142857,\n",
       "       0.6122449 , 0.65306122, 0.69387755, 0.73469388, 0.7755102 ,\n",
       "       0.81632653, 0.85714286, 0.89795918, 0.93877551, 0.97959184,\n",
       "       1.02040816, 1.06122449, 1.10204082, 1.14285714, 1.18367347,\n",
       "       1.2244898 , 1.26530612, 1.30612245, 1.34693878, 1.3877551 ,\n",
       "       1.42857143, 1.46938776, 1.51020408, 1.55102041, 1.59183673,\n",
       "       1.63265306, 1.67346939, 1.71428571, 1.75510204, 1.79591837,\n",
       "       1.83673469, 1.87755102, 1.91836735, 1.95918367, 2.        ])"
      ]
     },
     "execution_count": 16,
     "metadata": {},
     "output_type": "execute_result"
    }
   ],
   "source": [
    "np.linspace(0, 2)"
   ]
  },
  {
   "cell_type": "code",
   "execution_count": 17,
   "metadata": {
    "colab": {
     "base_uri": "https://localhost:8080/"
    },
    "id": "kVsDLK4D2vpp",
    "outputId": "6adf2713-67c3-45af-e61d-7a0f253b56ed"
   },
   "outputs": [
    {
     "data": {
      "text/plain": [
       "array([0.  , 0.25, 0.5 , 0.75, 1.  , 1.25, 1.5 , 1.75, 2.  ])"
      ]
     },
     "execution_count": 17,
     "metadata": {},
     "output_type": "execute_result"
    }
   ],
   "source": [
    "np.linspace(0, 2, 9)"
   ]
  },
  {
   "cell_type": "code",
   "execution_count": 18,
   "metadata": {
    "colab": {
     "base_uri": "https://localhost:8080/"
    },
    "id": "Yt6mUETY25QS",
    "outputId": "0869c18a-3ccd-4286-d4df-8cc85a31ba92"
   },
   "outputs": [
    {
     "data": {
      "text/plain": [
       "array([ 0.        ,  0.52631579,  1.05263158,  1.57894737,  2.10526316,\n",
       "        2.63157895,  3.15789474,  3.68421053,  4.21052632,  4.73684211,\n",
       "        5.26315789,  5.78947368,  6.31578947,  6.84210526,  7.36842105,\n",
       "        7.89473684,  8.42105263,  8.94736842,  9.47368421, 10.        ])"
      ]
     },
     "execution_count": 18,
     "metadata": {},
     "output_type": "execute_result"
    }
   ],
   "source": [
    "np.linspace(0, 10, 20)"
   ]
  },
  {
   "cell_type": "code",
   "execution_count": 19,
   "metadata": {
    "id": "w48Thsfg289p"
   },
   "outputs": [],
   "source": [
    "# 많은 수의 점 데이터를 만들 때 유용\n",
    "x = np.linspace(0, 2*np.pi, 100)\n",
    "y = np.sin(x)  # 데이터 시각화하면 sin곡선"
   ]
  },
  {
   "cell_type": "markdown",
   "metadata": {
    "id": "wYh-TUPb3YYZ"
   },
   "source": [
    "### 4. 배열의 차원 변경하기\n",
    "배열은 각 축을 따라 요소 수만큼 주어진 차원을 가짐\n",
    "- **ravel()** : 차원이 풀린 배열을 반환  \n",
    "- **reshape(6,2)** : shape가 수정된 배열을 반환, -1값을 사용할 수 있음    \n",
    "- **T** : 전치행렬(transposed-행렬의 행과 열을 뒤바꾼 행렬) 반환  \n",
    "- **resize()** : 현재 배열 객체를 바꿈, -1(음수)값을 사용할 수 없음    \n",
    "- **shape** : shape를 튜플형식으로 지정  "
   ]
  },
  {
   "cell_type": "code",
   "execution_count": 20,
   "metadata": {
    "colab": {
     "base_uri": "https://localhost:8080/"
    },
    "id": "3Rt7vscx3Oih",
    "outputId": "afd74099-8da4-444f-d823-225e0ec01036"
   },
   "outputs": [
    {
     "data": {
      "text/plain": [
       "array([[ 0,  1,  2,  3],\n",
       "       [ 4,  5,  6,  7],\n",
       "       [ 8,  9, 10, 11]])"
      ]
     },
     "execution_count": 20,
     "metadata": {},
     "output_type": "execute_result"
    }
   ],
   "source": [
    "A = np.arange(12).reshape(3,4)\n",
    "A"
   ]
  },
  {
   "cell_type": "code",
   "execution_count": 21,
   "metadata": {
    "colab": {
     "base_uri": "https://localhost:8080/"
    },
    "id": "FzUR76CR3uSB",
    "outputId": "5ef87bac-63fe-423b-898e-f4d2bb5033ab"
   },
   "outputs": [
    {
     "data": {
      "text/plain": [
       "(3, 4)"
      ]
     },
     "execution_count": 21,
     "metadata": {},
     "output_type": "execute_result"
    }
   ],
   "source": [
    "A.shape"
   ]
  },
  {
   "cell_type": "code",
   "execution_count": 22,
   "metadata": {
    "colab": {
     "base_uri": "https://localhost:8080/"
    },
    "id": "Ifm0sC3Y3yfJ",
    "outputId": "f7e8a062-1cfa-42c6-eb78-60fdaccecedf"
   },
   "outputs": [
    {
     "data": {
      "text/plain": [
       "array([ 0,  1,  2,  3,  4,  5,  6,  7,  8,  9, 10, 11])"
      ]
     },
     "execution_count": 22,
     "metadata": {},
     "output_type": "execute_result"
    }
   ],
   "source": [
    "# 차원 변경\n",
    "A.ravel()"
   ]
  },
  {
   "cell_type": "code",
   "execution_count": 23,
   "metadata": {
    "colab": {
     "base_uri": "https://localhost:8080/",
     "height": 147
    },
    "id": "HqoyPwPC33lq",
    "outputId": "0619fe6b-438e-4b83-8510-cbfc8a3a8eb9"
   },
   "outputs": [
    {
     "ename": "ValueError",
     "evalue": "cannot reshape array of size 12 into shape (5,2)",
     "output_type": "error",
     "traceback": [
      "\u001b[0;31m---------------------------------------------------------------------------\u001b[0m",
      "\u001b[0;31mValueError\u001b[0m                                Traceback (most recent call last)",
      "\u001b[0;32m<ipython-input-23-2f3dd878eb4f>\u001b[0m in \u001b[0;36m<cell line: 1>\u001b[0;34m()\u001b[0m\n\u001b[0;32m----> 1\u001b[0;31m \u001b[0mA\u001b[0m\u001b[0;34m.\u001b[0m\u001b[0mreshape\u001b[0m\u001b[0;34m(\u001b[0m\u001b[0;36m5\u001b[0m\u001b[0;34m,\u001b[0m\u001b[0;36m2\u001b[0m\u001b[0;34m)\u001b[0m  \u001b[0;31m# shape 지정시 요소의 갯수와 차원의 곱이 일치해야 함!!!\u001b[0m\u001b[0;34m\u001b[0m\u001b[0;34m\u001b[0m\u001b[0m\n\u001b[0m",
      "\u001b[0;31mValueError\u001b[0m: cannot reshape array of size 12 into shape (5,2)"
     ]
    }
   ],
   "source": [
    "A.reshape(5,2)  # shape 지정시 요소의 갯수와 차원의 곱이 일치해야 함!!!"
   ]
  },
  {
   "cell_type": "code",
   "execution_count": 23,
   "metadata": {
    "id": "pkUmRl6eNZ9q"
   },
   "outputs": [],
   "source": []
  },
  {
   "cell_type": "code",
   "execution_count": 24,
   "metadata": {
    "colab": {
     "base_uri": "https://localhost:8080/"
    },
    "id": "IfVXql1D4dYB",
    "outputId": "ba6c5fd1-ec1f-4c29-83c4-66571f0c9b97"
   },
   "outputs": [
    {
     "data": {
      "text/plain": [
       "array([[ 0,  1],\n",
       "       [ 2,  3],\n",
       "       [ 4,  5],\n",
       "       [ 6,  7],\n",
       "       [ 8,  9],\n",
       "       [10, 11]])"
      ]
     },
     "execution_count": 24,
     "metadata": {},
     "output_type": "execute_result"
    }
   ],
   "source": [
    "A.reshape(6,2)"
   ]
  },
  {
   "cell_type": "code",
   "execution_count": 25,
   "metadata": {
    "colab": {
     "base_uri": "https://localhost:8080/"
    },
    "id": "fQbPjOm94pAy",
    "outputId": "4994f58d-8559-4e61-9f80-a713e7c57500"
   },
   "outputs": [
    {
     "data": {
      "text/plain": [
       "array([[ 0,  4,  8],\n",
       "       [ 1,  5,  9],\n",
       "       [ 2,  6, 10],\n",
       "       [ 3,  7, 11]])"
      ]
     },
     "execution_count": 25,
     "metadata": {},
     "output_type": "execute_result"
    }
   ],
   "source": [
    "A.T  # 전치행렬을 반환"
   ]
  },
  {
   "cell_type": "code",
   "execution_count": 26,
   "metadata": {
    "id": "mz6k11wY5BcF"
   },
   "outputs": [],
   "source": [
    "A.resize(2,6)  # reshape()는 현재 객체를 바꾸지 않고 변경된 객체 반환, resize()는 현재 객체를 바꿈"
   ]
  },
  {
   "cell_type": "code",
   "execution_count": 27,
   "metadata": {
    "colab": {
     "base_uri": "https://localhost:8080/"
    },
    "id": "V_VOG8a75cp8",
    "outputId": "9961de5b-46f4-4d38-c139-c1194d397a3e"
   },
   "outputs": [
    {
     "data": {
      "text/plain": [
       "array([[ 0,  1,  2,  3,  4,  5],\n",
       "       [ 6,  7,  8,  9, 10, 11]])"
      ]
     },
     "execution_count": 27,
     "metadata": {},
     "output_type": "execute_result"
    }
   ],
   "source": [
    "A"
   ]
  },
  {
   "cell_type": "code",
   "execution_count": 28,
   "metadata": {
    "colab": {
     "base_uri": "https://localhost:8080/"
    },
    "id": "-vwEHQw65e_S",
    "outputId": "51991591-8185-4b92-c0f8-840e51d2a7f7"
   },
   "outputs": [
    {
     "data": {
      "text/plain": [
       "(2, 6)"
      ]
     },
     "execution_count": 28,
     "metadata": {},
     "output_type": "execute_result"
    }
   ],
   "source": [
    "A.shape"
   ]
  },
  {
   "cell_type": "code",
   "execution_count": 29,
   "metadata": {
    "id": "PX0kbCRF50oB"
   },
   "outputs": [],
   "source": [
    "# shape 속성에 값을 할당 => shape 변경\n",
    "A.shape = (3,4)"
   ]
  },
  {
   "cell_type": "code",
   "execution_count": 30,
   "metadata": {
    "colab": {
     "base_uri": "https://localhost:8080/"
    },
    "id": "AH95cOE6546K",
    "outputId": "c226219f-8919-42c3-8417-55a3627a80be"
   },
   "outputs": [
    {
     "data": {
      "text/plain": [
       "array([[ 0,  1,  2,  3],\n",
       "       [ 4,  5,  6,  7],\n",
       "       [ 8,  9, 10, 11]])"
      ]
     },
     "execution_count": 30,
     "metadata": {},
     "output_type": "execute_result"
    }
   ],
   "source": [
    "A"
   ]
  },
  {
   "cell_type": "code",
   "execution_count": 31,
   "metadata": {
    "colab": {
     "base_uri": "https://localhost:8080/"
    },
    "id": "IU2E7eGp55xC",
    "outputId": "3a1f6984-8490-4f91-a6cb-30e78eca93d3"
   },
   "outputs": [
    {
     "data": {
      "text/plain": [
       "array([[ 0,  1,  2,  3,  4,  5],\n",
       "       [ 6,  7,  8,  9, 10, 11]])"
      ]
     },
     "execution_count": 31,
     "metadata": {},
     "output_type": "execute_result"
    }
   ],
   "source": [
    "A.reshape(2,-1)  # 차원을 하나만 지정하고 나머지는 알아서 자동 지정"
   ]
  },
  {
   "cell_type": "code",
   "execution_count": 32,
   "metadata": {
    "colab": {
     "base_uri": "https://localhost:8080/",
     "height": 147
    },
    "id": "Nl6tx-5Q6l27",
    "outputId": "d5b27d40-dc05-4379-dd81-2b2fbb3573ef"
   },
   "outputs": [
    {
     "ename": "ValueError",
     "evalue": "negative dimensions not allowed",
     "output_type": "error",
     "traceback": [
      "\u001b[0;31m---------------------------------------------------------------------------\u001b[0m",
      "\u001b[0;31mValueError\u001b[0m                                Traceback (most recent call last)",
      "\u001b[0;32m<ipython-input-32-12653b963c0e>\u001b[0m in \u001b[0;36m<cell line: 1>\u001b[0;34m()\u001b[0m\n\u001b[0;32m----> 1\u001b[0;31m \u001b[0mA\u001b[0m\u001b[0;34m.\u001b[0m\u001b[0mresize\u001b[0m\u001b[0;34m(\u001b[0m\u001b[0;36m4\u001b[0m\u001b[0;34m,\u001b[0m \u001b[0;34m-\u001b[0m\u001b[0;36m1\u001b[0m\u001b[0;34m)\u001b[0m  \u001b[0;31m# resize()는 자동 지정 안됨(음수 사용 불가) => error\u001b[0m\u001b[0;34m\u001b[0m\u001b[0;34m\u001b[0m\u001b[0m\n\u001b[0m",
      "\u001b[0;31mValueError\u001b[0m: negative dimensions not allowed"
     ]
    }
   ],
   "source": [
    "A.resize(4, -1)  # resize()는 자동 지정 안됨(음수 사용 불가) => error"
   ]
  },
  {
   "cell_type": "markdown",
   "metadata": {
    "id": "HVHYLr_A64BJ"
   },
   "source": [
    "### 5. 배열 인쇄\n",
    "- 배열을 인쇄할 때 레이아웃\n",
    "    - 마지막 축은 왼쪽에서 오른쪽으로 인쇄  \n",
    "    - 나머지는 위에서 아래로 인쇄  \n",
    "    - 각 슬라이스는 빈 줄로 구분  \n",
    "- 1차원 배열은 행, 2차원은 행렬, 3차원은 행렬 목록으로 인쇄  \n",
    "- reshape() 함수는 배열의 모양(shape)을 변경  "
   ]
  },
  {
   "cell_type": "code",
   "execution_count": 33,
   "metadata": {
    "id": "Rii3xro56tVi"
   },
   "outputs": [],
   "source": [
    "A = np.arange(6)"
   ]
  },
  {
   "cell_type": "code",
   "execution_count": 34,
   "metadata": {
    "colab": {
     "base_uri": "https://localhost:8080/"
    },
    "id": "uYjdAJd08K-b",
    "outputId": "4ac40c8b-f812-4acc-ee26-80644b9def43"
   },
   "outputs": [
    {
     "name": "stdout",
     "output_type": "stream",
     "text": [
      "[0 1 2 3 4 5]\n"
     ]
    }
   ],
   "source": [
    "print(A)  # print()함수는 중간에 , 가 보이지 않음"
   ]
  },
  {
   "cell_type": "code",
   "execution_count": 35,
   "metadata": {
    "colab": {
     "base_uri": "https://localhost:8080/"
    },
    "id": "m6aDrKhx8MRq",
    "outputId": "a8ef5827-5260-48d8-ddf4-fc3892323f18"
   },
   "outputs": [
    {
     "data": {
      "text/plain": [
       "array([0, 1, 2, 3, 4, 5])"
      ]
     },
     "execution_count": 35,
     "metadata": {},
     "output_type": "execute_result"
    }
   ],
   "source": [
    "A"
   ]
  },
  {
   "cell_type": "code",
   "execution_count": 36,
   "metadata": {
    "id": "iKZjy65C8OMq"
   },
   "outputs": [],
   "source": [
    "B = np.arange(12).reshape(4,3)"
   ]
  },
  {
   "cell_type": "code",
   "execution_count": 37,
   "metadata": {
    "colab": {
     "base_uri": "https://localhost:8080/"
    },
    "id": "XGuoCCdT308T",
    "outputId": "51e6fc39-c1db-449b-8f48-91f54af35f6e"
   },
   "outputs": [
    {
     "name": "stdout",
     "output_type": "stream",
     "text": [
      "[[ 0  1  2]\n",
      " [ 3  4  5]\n",
      " [ 6  7  8]\n",
      " [ 9 10 11]]\n"
     ]
    }
   ],
   "source": [
    "print(B)"
   ]
  },
  {
   "cell_type": "code",
   "execution_count": 38,
   "metadata": {
    "id": "ZOqjno1p8Wkr"
   },
   "outputs": [],
   "source": [
    "C = np.arange(24).reshape((2,3,4))  # (2,3,4)는 (3,4)모양의 배열이 2개 있음을 의미"
   ]
  },
  {
   "cell_type": "code",
   "execution_count": 39,
   "metadata": {
    "colab": {
     "base_uri": "https://localhost:8080/"
    },
    "id": "tYebf8XL8ms6",
    "outputId": "88ad9f02-dbdb-4d0d-9890-701bef34d5dd"
   },
   "outputs": [
    {
     "data": {
      "text/plain": [
       "array([[[ 0,  1,  2,  3],\n",
       "        [ 4,  5,  6,  7],\n",
       "        [ 8,  9, 10, 11]],\n",
       "\n",
       "       [[12, 13, 14, 15],\n",
       "        [16, 17, 18, 19],\n",
       "        [20, 21, 22, 23]]])"
      ]
     },
     "execution_count": 39,
     "metadata": {},
     "output_type": "execute_result"
    }
   ],
   "source": [
    "C"
   ]
  },
  {
   "cell_type": "code",
   "execution_count": 40,
   "metadata": {
    "colab": {
     "base_uri": "https://localhost:8080/"
    },
    "id": "QdHP3Gjm8nqj",
    "outputId": "5904fc14-ba86-4e17-95cf-3a6c0ee3cc5e"
   },
   "outputs": [
    {
     "name": "stdout",
     "output_type": "stream",
     "text": [
      "[   0    1    2 ... 9997 9998 9999]\n"
     ]
    }
   ],
   "source": [
    "print(np.arange(10000))"
   ]
  },
  {
   "cell_type": "code",
   "execution_count": 41,
   "metadata": {
    "colab": {
     "base_uri": "https://localhost:8080/"
    },
    "id": "yJDxLR728-Sy",
    "outputId": "25f3c725-cbf0-405b-ebfd-14160afb39a9"
   },
   "outputs": [
    {
     "name": "stdout",
     "output_type": "stream",
     "text": [
      "[[   0    1    2 ...   97   98   99]\n",
      " [ 100  101  102 ...  197  198  199]\n",
      " [ 200  201  202 ...  297  298  299]\n",
      " ...\n",
      " [9700 9701 9702 ... 9797 9798 9799]\n",
      " [9800 9801 9802 ... 9897 9898 9899]\n",
      " [9900 9901 9902 ... 9997 9998 9999]]\n"
     ]
    }
   ],
   "source": [
    "print(np.arange(10000).reshape(100, 100))"
   ]
  },
  {
   "cell_type": "markdown",
   "metadata": {
    "id": "k9BJU9eC-CtS"
   },
   "source": [
    "- 데이터 중간에 생략없이 전체 배열을 인쇄하려면 인쇄 옵션 변경  \n",
    "        numpy_set_printoptions(threshold=None)"
   ]
  },
  {
   "cell_type": "code",
   "execution_count": 42,
   "metadata": {
    "id": "ftowUVTW9FVa"
   },
   "outputs": [],
   "source": [
    "# threshold 속성 값이 배열의 데이터 수보다 크거나 같아야 됨\n",
    "np.set_printoptions(threshold=10000)"
   ]
  },
  {
   "cell_type": "code",
   "execution_count": 43,
   "metadata": {
    "colab": {
     "base_uri": "https://localhost:8080/"
    },
    "id": "FyhCwwv_9fkL",
    "outputId": "3cd1eb50-1f27-42fe-cc2c-28acecd2edb4"
   },
   "outputs": [
    {
     "name": "stdout",
     "output_type": "stream",
     "text": [
      "[[ 0  1  2  3  4  5  6  7  8  9]\n",
      " [10 11 12 13 14 15 16 17 18 19]\n",
      " [20 21 22 23 24 25 26 27 28 29]\n",
      " [30 31 32 33 34 35 36 37 38 39]\n",
      " [40 41 42 43 44 45 46 47 48 49]\n",
      " [50 51 52 53 54 55 56 57 58 59]\n",
      " [60 61 62 63 64 65 66 67 68 69]\n",
      " [70 71 72 73 74 75 76 77 78 79]\n",
      " [80 81 82 83 84 85 86 87 88 89]\n",
      " [90 91 92 93 94 95 96 97 98 99]]\n"
     ]
    }
   ],
   "source": [
    "print(np.arange(100).reshape(10,10))"
   ]
  },
  {
   "cell_type": "markdown",
   "metadata": {
    "id": "zsSV7REU-ZIq"
   },
   "source": [
    "### 6. 배열 요소별 연산과 행렬의 곱\n",
    "- 배열 연산 시 산술 연산자는 요소별로 적용  "
   ]
  },
  {
   "cell_type": "code",
   "execution_count": 44,
   "metadata": {
    "id": "g0mKYqf09kuq"
   },
   "outputs": [],
   "source": [
    "A = np.array([20,30,40,50])\n",
    "B = np.arange(4)"
   ]
  },
  {
   "cell_type": "code",
   "execution_count": 45,
   "metadata": {
    "colab": {
     "base_uri": "https://localhost:8080/"
    },
    "id": "8iaE5GPt_e-8",
    "outputId": "40e7b3b3-9f94-449e-9827-2871a1125c5c"
   },
   "outputs": [
    {
     "data": {
      "text/plain": [
       "array([20, 30, 40, 50])"
      ]
     },
     "execution_count": 45,
     "metadata": {},
     "output_type": "execute_result"
    }
   ],
   "source": [
    "A"
   ]
  },
  {
   "cell_type": "code",
   "execution_count": 46,
   "metadata": {
    "colab": {
     "base_uri": "https://localhost:8080/"
    },
    "id": "ltE_hfXF_gJi",
    "outputId": "a9f8fea2-602d-4fd2-94d0-3987bd24d282"
   },
   "outputs": [
    {
     "data": {
      "text/plain": [
       "array([0, 1, 2, 3])"
      ]
     },
     "execution_count": 46,
     "metadata": {},
     "output_type": "execute_result"
    }
   ],
   "source": [
    "B"
   ]
  },
  {
   "cell_type": "code",
   "execution_count": 47,
   "metadata": {
    "colab": {
     "base_uri": "https://localhost:8080/"
    },
    "id": "SGgSvpP-_ZRj",
    "outputId": "652fadd4-03e9-49c2-c319-b953f17010bf"
   },
   "outputs": [
    {
     "data": {
      "text/plain": [
       "array([20, 29, 38, 47])"
      ]
     },
     "execution_count": 47,
     "metadata": {},
     "output_type": "execute_result"
    }
   ],
   "source": [
    "A - B"
   ]
  },
  {
   "cell_type": "code",
   "execution_count": 48,
   "metadata": {
    "colab": {
     "base_uri": "https://localhost:8080/"
    },
    "id": "_5AgGCD3_dRb",
    "outputId": "f9fd6f76-8204-4a61-c06d-666cabe598b1"
   },
   "outputs": [
    {
     "data": {
      "text/plain": [
       "[1, 2, 3, 1, 2, 3]"
      ]
     },
     "execution_count": 48,
     "metadata": {},
     "output_type": "execute_result"
    }
   ],
   "source": [
    "[1,2,3]*2  # 리스트 곱은 반복"
   ]
  },
  {
   "cell_type": "code",
   "execution_count": 49,
   "metadata": {
    "colab": {
     "base_uri": "https://localhost:8080/"
    },
    "id": "-G3MqjDs_zNT",
    "outputId": "ab7c81df-87d4-4aee-a264-c5b993fee3e2"
   },
   "outputs": [
    {
     "data": {
      "text/plain": [
       "array([ 40,  60,  80, 100])"
      ]
     },
     "execution_count": 49,
     "metadata": {},
     "output_type": "execute_result"
    }
   ],
   "source": [
    "A * 2  # 배열의 곱은 각 요소별로 계산"
   ]
  },
  {
   "cell_type": "code",
   "execution_count": 50,
   "metadata": {
    "colab": {
     "base_uri": "https://localhost:8080/"
    },
    "id": "YskNlMfi_4cb",
    "outputId": "042b118b-6403-42ac-fc46-747352b1760a"
   },
   "outputs": [
    {
     "data": {
      "text/plain": [
       "array([0, 1, 4, 9])"
      ]
     },
     "execution_count": 50,
     "metadata": {},
     "output_type": "execute_result"
    }
   ],
   "source": [
    "B ** 2  # 배열의 각 요소별로 제곱"
   ]
  },
  {
   "cell_type": "code",
   "execution_count": 51,
   "metadata": {
    "colab": {
     "base_uri": "https://localhost:8080/"
    },
    "id": "WPd6JUWXAD1U",
    "outputId": "2a0127df-6ce4-4931-b5e8-303310141dcd"
   },
   "outputs": [
    {
     "data": {
      "text/plain": [
       "array([ 9.12945251, -9.88031624,  7.4511316 , -2.62374854])"
      ]
     },
     "execution_count": 51,
     "metadata": {},
     "output_type": "execute_result"
    }
   ],
   "source": [
    "10 * np.sin(A)"
   ]
  },
  {
   "cell_type": "code",
   "execution_count": 52,
   "metadata": {
    "colab": {
     "base_uri": "https://localhost:8080/"
    },
    "id": "c17WxoRKAIqz",
    "outputId": "7b9e850d-774a-4c98-c3a2-0206d463adbd"
   },
   "outputs": [
    {
     "data": {
      "text/plain": [
       "array([ True,  True, False, False])"
      ]
     },
     "execution_count": 52,
     "metadata": {},
     "output_type": "execute_result"
    }
   ],
   "source": [
    "A < 35  # 배열의 각 요소별로 비교하여 결과를 boolean 으로 반환"
   ]
  },
  {
   "cell_type": "markdown",
   "metadata": {
    "id": "NSxzjL8I_MbS"
   },
   "source": [
    "- 행렬의 곱은 dot() 또는 @ 연산자(3.5 이상)"
   ]
  },
  {
   "cell_type": "code",
   "execution_count": 53,
   "metadata": {
    "id": "SrW5-WPL_Nf7"
   },
   "outputs": [],
   "source": [
    "A = np.array([[1,1], [0,1]])\n",
    "B = np.array([[2,0], [3,4]])"
   ]
  },
  {
   "cell_type": "code",
   "execution_count": 54,
   "metadata": {
    "colab": {
     "base_uri": "https://localhost:8080/"
    },
    "id": "m9S9yd8QAjXk",
    "outputId": "5435581a-fec0-4600-ffab-d43c63928e05"
   },
   "outputs": [
    {
     "data": {
      "text/plain": [
       "array([[2, 0],\n",
       "       [0, 4]])"
      ]
     },
     "execution_count": 54,
     "metadata": {},
     "output_type": "execute_result"
    }
   ],
   "source": [
    "A * B  # 각 요소별 곱을 계산"
   ]
  },
  {
   "cell_type": "code",
   "execution_count": 55,
   "metadata": {
    "colab": {
     "base_uri": "https://localhost:8080/"
    },
    "id": "uNi6LmC1At4-",
    "outputId": "e823a84e-97f8-4b04-94a1-8767d4235f1c"
   },
   "outputs": [
    {
     "data": {
      "text/plain": [
       "array([[5, 4],\n",
       "       [3, 4]])"
      ]
     },
     "execution_count": 55,
     "metadata": {},
     "output_type": "execute_result"
    }
   ],
   "source": [
    "A @ B  # 행렬의 곱"
   ]
  },
  {
   "cell_type": "code",
   "execution_count": 56,
   "metadata": {
    "colab": {
     "base_uri": "https://localhost:8080/"
    },
    "id": "QkRyXIRGA0OM",
    "outputId": "4661d2b0-ffae-4ba6-d4df-3d01185568d8"
   },
   "outputs": [
    {
     "data": {
      "text/plain": [
       "array([[5, 4],\n",
       "       [3, 4]])"
      ]
     },
     "execution_count": 56,
     "metadata": {},
     "output_type": "execute_result"
    }
   ],
   "source": [
    "A.dot(B)"
   ]
  },
  {
   "cell_type": "markdown",
   "metadata": {
    "id": "RjJEHWDS4oO8"
   },
   "source": [
    "### 7. 복합대입연산자의 사용\n",
    "- += 와 *= 등 복합대입연산자들은 새 배열을 생성하지 않고 기존 배열을 수정하기 위해 사용  "
   ]
  },
  {
   "cell_type": "code",
   "execution_count": 57,
   "metadata": {
    "id": "8e4HbLwSBEzc"
   },
   "outputs": [],
   "source": [
    "A = np.ones((2,3), dtype=int)"
   ]
  },
  {
   "cell_type": "code",
   "execution_count": 58,
   "metadata": {
    "id": "6rs5pjktBCl7"
   },
   "outputs": [],
   "source": [
    "B = np.random.random((2,3))"
   ]
  },
  {
   "cell_type": "code",
   "execution_count": 59,
   "metadata": {
    "colab": {
     "base_uri": "https://localhost:8080/"
    },
    "id": "CJb-dcrP5HON",
    "outputId": "0ee61a03-d2c1-4794-d1b4-e386fd781c91"
   },
   "outputs": [
    {
     "data": {
      "text/plain": [
       "array([[1, 1, 1],\n",
       "       [1, 1, 1]])"
      ]
     },
     "execution_count": 59,
     "metadata": {},
     "output_type": "execute_result"
    }
   ],
   "source": [
    "A"
   ]
  },
  {
   "cell_type": "code",
   "execution_count": 60,
   "metadata": {
    "colab": {
     "base_uri": "https://localhost:8080/"
    },
    "id": "WZTpOBH45FL1",
    "outputId": "9e0b20ff-9ec2-42fa-d2b7-88025a89c06f"
   },
   "outputs": [
    {
     "data": {
      "text/plain": [
       "array([[0.06698056, 0.09452309, 0.91182077],\n",
       "       [0.24202484, 0.3951143 , 0.9299518 ]])"
      ]
     },
     "execution_count": 60,
     "metadata": {},
     "output_type": "execute_result"
    }
   ],
   "source": [
    "B"
   ]
  },
  {
   "cell_type": "code",
   "execution_count": 61,
   "metadata": {
    "colab": {
     "base_uri": "https://localhost:8080/"
    },
    "id": "oCAzFLJ05LBN",
    "outputId": "2d9765e8-d24a-456a-88c4-cb656685b28f"
   },
   "outputs": [
    {
     "data": {
      "text/plain": [
       "array([[3, 3, 3],\n",
       "       [3, 3, 3]])"
      ]
     },
     "execution_count": 61,
     "metadata": {},
     "output_type": "execute_result"
    }
   ],
   "source": [
    "A *= 3  # A의 모든 요소에 연산되어 재할당\n",
    "A"
   ]
  },
  {
   "cell_type": "code",
   "execution_count": 62,
   "metadata": {
    "colab": {
     "base_uri": "https://localhost:8080/"
    },
    "id": "1umoNeO15eMc",
    "outputId": "6cc65c06-87ff-4c06-ab50-375f8c898d48"
   },
   "outputs": [
    {
     "data": {
      "text/plain": [
       "array([[3.06698056, 3.09452309, 3.91182077],\n",
       "       [3.24202484, 3.3951143 , 3.9299518 ]])"
      ]
     },
     "execution_count": 62,
     "metadata": {},
     "output_type": "execute_result"
    }
   ],
   "source": [
    "B += 3\n",
    "B"
   ]
  },
  {
   "cell_type": "code",
   "execution_count": 63,
   "metadata": {
    "colab": {
     "base_uri": "https://localhost:8080/",
     "height": 166
    },
    "id": "m5Q03ZgX5hpG",
    "outputId": "878ca99b-fa76-4bd5-d0e9-c7741e245e5f"
   },
   "outputs": [
    {
     "ename": "UFuncTypeError",
     "evalue": "Cannot cast ufunc 'add' output from dtype('float64') to dtype('int64') with casting rule 'same_kind'",
     "output_type": "error",
     "traceback": [
      "\u001b[0;31m---------------------------------------------------------------------------\u001b[0m",
      "\u001b[0;31mUFuncTypeError\u001b[0m                            Traceback (most recent call last)",
      "\u001b[0;32m<ipython-input-63-004333d39f34>\u001b[0m in \u001b[0;36m<cell line: 1>\u001b[0;34m()\u001b[0m\n\u001b[0;32m----> 1\u001b[0;31m \u001b[0mA\u001b[0m \u001b[0;34m+=\u001b[0m \u001b[0mB\u001b[0m\u001b[0;34m\u001b[0m\u001b[0;34m\u001b[0m\u001b[0m\n\u001b[0m",
      "\u001b[0;31mUFuncTypeError\u001b[0m: Cannot cast ufunc 'add' output from dtype('float64') to dtype('int64') with casting rule 'same_kind'"
     ]
    }
   ],
   "source": [
    "A += B"
   ]
  },
  {
   "cell_type": "markdown",
   "metadata": {
    "id": "HjUbKnPr51Dk"
   },
   "source": [
    "=> 넘파이 배열의 타입은 자동으로 하향형 변환(down casting) 되지 않기 때문에 a의 타입이 a+b의 결과를 저장할 수 없는 타입이라면 에러가 발생"
   ]
  },
  {
   "cell_type": "code",
   "execution_count": 64,
   "metadata": {
    "id": "eZVFxxvX6xwM"
   },
   "outputs": [],
   "source": [
    "A = np.ones(3, dtype=np.int32)"
   ]
  },
  {
   "cell_type": "code",
   "execution_count": 65,
   "metadata": {
    "id": "7gZLUpNi62Dl"
   },
   "outputs": [],
   "source": [
    "B = np.linspace(0, np.pi, 3)"
   ]
  },
  {
   "cell_type": "code",
   "execution_count": 66,
   "metadata": {
    "colab": {
     "base_uri": "https://localhost:8080/"
    },
    "id": "4--x2iZV65SN",
    "outputId": "72dda6f6-0e8b-4c32-a56d-f7cb1f368a76"
   },
   "outputs": [
    {
     "data": {
      "text/plain": [
       "dtype('float64')"
      ]
     },
     "execution_count": 66,
     "metadata": {},
     "output_type": "execute_result"
    }
   ],
   "source": [
    "B.dtype"
   ]
  },
  {
   "cell_type": "code",
   "execution_count": 67,
   "metadata": {
    "id": "MwXgrpzP66sV"
   },
   "outputs": [],
   "source": [
    "C = A+B"
   ]
  },
  {
   "cell_type": "code",
   "execution_count": 68,
   "metadata": {
    "colab": {
     "base_uri": "https://localhost:8080/"
    },
    "id": "gXF5oG5769Bm",
    "outputId": "d75d6fe3-63ad-47e5-ce79-a8165da1fcfb"
   },
   "outputs": [
    {
     "data": {
      "text/plain": [
       "dtype('float64')"
      ]
     },
     "execution_count": 68,
     "metadata": {},
     "output_type": "execute_result"
    }
   ],
   "source": [
    "C.dtype"
   ]
  },
  {
   "cell_type": "markdown",
   "metadata": {
    "id": "ZCRb8J7q6D00"
   },
   "source": [
    "### 8. 배열 요소의 집계\n",
    "- 배열의 합 계산과 같은 단항 연산은 ndarray클래스의 메서드로 구현되어 있음\n",
    "    - sum()은 배열의 모든 요소의 합 반환  \n",
    "    - min()은 배열의 요소들 중에서 가장 작은값 반환  \n",
    "    - max()는 가장 큰 값을 반환"
   ]
  },
  {
   "cell_type": "code",
   "execution_count": 69,
   "metadata": {
    "colab": {
     "base_uri": "https://localhost:8080/"
    },
    "id": "wHY_KYZQ6HF3",
    "outputId": "760d74e0-312c-48f3-9f43-77c5e0d25347"
   },
   "outputs": [
    {
     "data": {
      "text/plain": [
       "array([[0.01304323, 0.33622175, 0.71930819],\n",
       "       [0.63087613, 0.50513858, 0.75466678]])"
      ]
     },
     "execution_count": 69,
     "metadata": {},
     "output_type": "execute_result"
    }
   ],
   "source": [
    "A = np.random.random((2,3))\n",
    "A"
   ]
  },
  {
   "cell_type": "code",
   "execution_count": 70,
   "metadata": {
    "colab": {
     "base_uri": "https://localhost:8080/"
    },
    "id": "OMH4kzRZ5y4t",
    "outputId": "5ba41de4-1815-4617-c37a-dedacaa3b717"
   },
   "outputs": [
    {
     "data": {
      "text/plain": [
       "(2.9592546617401343, 0.01304323204512825, 0.7546667764088162)"
      ]
     },
     "execution_count": 70,
     "metadata": {},
     "output_type": "execute_result"
    }
   ],
   "source": [
    "A.sum(), A.min(), A.max()"
   ]
  },
  {
   "cell_type": "markdown",
   "metadata": {
    "id": "9ovL3jP06or9"
   },
   "source": [
    "### 9. 축을 지정한 집계\n",
    "- axis 매개 변수를 지정하면 배열의 지정된 축을 따라 작업을 적용함"
   ]
  },
  {
   "cell_type": "code",
   "execution_count": 71,
   "metadata": {
    "colab": {
     "base_uri": "https://localhost:8080/"
    },
    "id": "jf0HGrdu5Qlr",
    "outputId": "7323dad1-c13c-4e1c-d41d-b4491306d9fc"
   },
   "outputs": [
    {
     "data": {
      "text/plain": [
       "array([[ 0,  1,  2,  3],\n",
       "       [ 4,  5,  6,  7],\n",
       "       [ 8,  9, 10, 11]])"
      ]
     },
     "execution_count": 71,
     "metadata": {},
     "output_type": "execute_result"
    }
   ],
   "source": [
    "A = np.arange(12).reshape(3,4)\n",
    "A"
   ]
  },
  {
   "cell_type": "code",
   "execution_count": 72,
   "metadata": {
    "colab": {
     "base_uri": "https://localhost:8080/"
    },
    "id": "HeGNJBKd7nzN",
    "outputId": "4c57b2b7-0fa1-4c60-9ff9-fb10ac0a36f3"
   },
   "outputs": [
    {
     "data": {
      "text/plain": [
       "array([12, 15, 18, 21])"
      ]
     },
     "execution_count": 72,
     "metadata": {},
     "output_type": "execute_result"
    }
   ],
   "source": [
    "A.sum(axis=0)  # axis=0 : 2차원의 경우 열을 고정하고 행을 집계"
   ]
  },
  {
   "cell_type": "code",
   "execution_count": 73,
   "metadata": {
    "colab": {
     "base_uri": "https://localhost:8080/"
    },
    "id": "9BFLx_wt7qwm",
    "outputId": "49e29751-db80-4a4b-89ae-b3792f7962db"
   },
   "outputs": [
    {
     "data": {
      "text/plain": [
       "array([12, 15, 18, 21])"
      ]
     },
     "execution_count": 73,
     "metadata": {},
     "output_type": "execute_result"
    }
   ],
   "source": [
    "np.sum(A, axis=0)"
   ]
  },
  {
   "cell_type": "code",
   "execution_count": 74,
   "metadata": {
    "colab": {
     "base_uri": "https://localhost:8080/"
    },
    "id": "jJv9ThVW8fvO",
    "outputId": "72577e2b-08e5-4f45-a512-b116d8165168"
   },
   "outputs": [
    {
     "data": {
      "text/plain": [
       "array([ 6, 22, 38])"
      ]
     },
     "execution_count": 74,
     "metadata": {},
     "output_type": "execute_result"
    }
   ],
   "source": [
    "A.sum(axis=1)  # axis=1 : 2차원의 경우 행을 고정하고 열을 집계"
   ]
  },
  {
   "cell_type": "code",
   "execution_count": 75,
   "metadata": {
    "colab": {
     "base_uri": "https://localhost:8080/"
    },
    "id": "OX4ioUfT8iJ-",
    "outputId": "f8f72e38-6c5f-4463-b01a-efdf9d1747bc"
   },
   "outputs": [
    {
     "data": {
      "text/plain": [
       "array([[[ 0,  1,  2,  3],\n",
       "        [ 4,  5,  6,  7],\n",
       "        [ 8,  9, 10, 11]],\n",
       "\n",
       "       [[12, 13, 14, 15],\n",
       "        [16, 17, 18, 19],\n",
       "        [20, 21, 22, 23]]])"
      ]
     },
     "execution_count": 75,
     "metadata": {},
     "output_type": "execute_result"
    }
   ],
   "source": [
    "# 3차원의 경우\n",
    "B = np.arange(24).reshape(2,3,4)  # 깊이(면)이 2인 (3,4)행렬\n",
    "B"
   ]
  },
  {
   "cell_type": "code",
   "execution_count": 76,
   "metadata": {
    "colab": {
     "base_uri": "https://localhost:8080/"
    },
    "id": "6Uot4dGm9TKN",
    "outputId": "4fbcdd72-a08e-4501-aedd-6cb448f2ae31"
   },
   "outputs": [
    {
     "data": {
      "text/plain": [
       "21"
      ]
     },
     "execution_count": 76,
     "metadata": {},
     "output_type": "execute_result"
    }
   ],
   "source": [
    "# 21을 찾는 인덱싱\n",
    "B[1, 2, 1]"
   ]
  },
  {
   "cell_type": "code",
   "execution_count": 77,
   "metadata": {
    "colab": {
     "base_uri": "https://localhost:8080/"
    },
    "id": "DE8H7Eak9h3V",
    "outputId": "6ea383ea-abf7-447d-9e71-8434ceb7ea9e"
   },
   "outputs": [
    {
     "data": {
      "text/plain": [
       "276"
      ]
     },
     "execution_count": 77,
     "metadata": {},
     "output_type": "execute_result"
    }
   ],
   "source": [
    "B.sum()"
   ]
  },
  {
   "cell_type": "code",
   "execution_count": 78,
   "metadata": {
    "colab": {
     "base_uri": "https://localhost:8080/"
    },
    "id": "aFenTJJm9D9w",
    "outputId": "057d253f-640f-46a4-b026-e86b9de8def9"
   },
   "outputs": [
    {
     "data": {
      "text/plain": [
       "array([[12, 14, 16, 18],\n",
       "       [20, 22, 24, 26],\n",
       "       [28, 30, 32, 34]])"
      ]
     },
     "execution_count": 78,
     "metadata": {},
     "output_type": "execute_result"
    }
   ],
   "source": [
    "B.sum(axis=0)  # 행과 열이 같은 요소를 집계"
   ]
  },
  {
   "cell_type": "code",
   "execution_count": 79,
   "metadata": {
    "colab": {
     "base_uri": "https://localhost:8080/"
    },
    "id": "C88V9Lsy80DJ",
    "outputId": "cbb4b223-2be8-44a5-c8c4-80b49445d8e8"
   },
   "outputs": [
    {
     "data": {
      "text/plain": [
       "array([[12, 15, 18, 21],\n",
       "       [48, 51, 54, 57]])"
      ]
     },
     "execution_count": 79,
     "metadata": {},
     "output_type": "execute_result"
    }
   ],
   "source": [
    "B.sum(axis=1)  # 같은 차원에서 열을 고정하고 행을 집계"
   ]
  },
  {
   "cell_type": "code",
   "execution_count": 80,
   "metadata": {
    "colab": {
     "base_uri": "https://localhost:8080/"
    },
    "id": "tKAWFPcn-XEx",
    "outputId": "0e43e83f-9b57-44c9-b2cc-0d729579e1d6"
   },
   "outputs": [
    {
     "data": {
      "text/plain": [
       "array([[ 6, 22, 38],\n",
       "       [54, 70, 86]])"
      ]
     },
     "execution_count": 80,
     "metadata": {},
     "output_type": "execute_result"
    }
   ],
   "source": [
    "B.sum(axis=2)  # 같은 차원에서 행을 고정하고 열을 집계"
   ]
  },
  {
   "cell_type": "code",
   "execution_count": 81,
   "metadata": {
    "colab": {
     "base_uri": "https://localhost:8080/"
    },
    "id": "AmoEHLzJ-yjd",
    "outputId": "2feb699f-6947-42ec-9379-b359db317297"
   },
   "outputs": [
    {
     "data": {
      "text/plain": [
       "array([[ 0,  1,  2,  3],\n",
       "       [ 4,  5,  6,  7],\n",
       "       [ 8,  9, 10, 11]])"
      ]
     },
     "execution_count": 81,
     "metadata": {},
     "output_type": "execute_result"
    }
   ],
   "source": [
    "A = np.arange(12).reshape(3,4)\n",
    "A"
   ]
  },
  {
   "cell_type": "code",
   "execution_count": 82,
   "metadata": {
    "colab": {
     "base_uri": "https://localhost:8080/"
    },
    "id": "AbK67n8D-26G",
    "outputId": "0df8c8c4-4881-4f1c-a3ea-e900cf58ed80"
   },
   "outputs": [
    {
     "data": {
      "text/plain": [
       "array([12, 15, 18, 21])"
      ]
     },
     "execution_count": 82,
     "metadata": {},
     "output_type": "execute_result"
    }
   ],
   "source": [
    "A.sum(axis=0)"
   ]
  },
  {
   "cell_type": "markdown",
   "metadata": {
    "id": "G6XMyI15_Ha1"
   },
   "source": [
    "=> 2차원의 경우 axis=0 일 경우 열을 의미하는 것이 아님!!!  \n",
    "**파이썬에서 축은 축의 인덱스가 바뀌는 것**을 의미함.  \n",
    "\n",
    "    2차원의 경우   \n",
    "    axis=0은 열 인덱스를 고정하고, 행 인덱스가 바뀌는 데이터를 집계\n",
    "\n",
    "    3차원의 경우  \n",
    "    axis=0은 행과 열 인덱스를 고정하고, 깊이(면) 인덱스가 바뀌는 데이터 집계\n",
    "    axis=1은 깊이와 열 인덱스를 고정하고, 행 인덱스가 바뀌는 데이터 집계"
   ]
  },
  {
   "cell_type": "markdown",
   "metadata": {
    "id": "byqJvyxI-gEt"
   },
   "source": [
    "### 10. 범용 함수\n",
    "- 범용함수 : 배열 데이터의 연산, 형변환 그 외 여러가지 표준 기능을 지원하는 numpy 배열에서 작동하는 함수\n",
    "- 수학 함수, 삼각 함수, 비트 함수, 비교 함수, 부동 함수 등이 있음  \n",
    "- 배열의 각 요소마다 적용되어 배열을 출력함  "
   ]
  },
  {
   "cell_type": "code",
   "execution_count": 83,
   "metadata": {
    "colab": {
     "base_uri": "https://localhost:8080/"
    },
    "id": "GXmff-oy-dBZ",
    "outputId": "a21d780f-ad90-4af9-ebe0-dae4808403fc"
   },
   "outputs": [
    {
     "data": {
      "text/plain": [
       "array([0, 1, 2])"
      ]
     },
     "execution_count": 83,
     "metadata": {},
     "output_type": "execute_result"
    }
   ],
   "source": [
    "A = np.arange(3)\n",
    "A"
   ]
  },
  {
   "cell_type": "code",
   "execution_count": 84,
   "metadata": {
    "colab": {
     "base_uri": "https://localhost:8080/"
    },
    "id": "Rw3nbIyJBP3v",
    "outputId": "ff9b9fbc-a02a-4192-a3d6-5e301ac35d83"
   },
   "outputs": [
    {
     "data": {
      "text/plain": [
       "array([4, 5, 6])"
      ]
     },
     "execution_count": 84,
     "metadata": {},
     "output_type": "execute_result"
    }
   ],
   "source": [
    "B = np.arange(4,7)\n",
    "B"
   ]
  },
  {
   "cell_type": "code",
   "execution_count": 85,
   "metadata": {
    "colab": {
     "base_uri": "https://localhost:8080/"
    },
    "id": "IZvAt7gZBSYX",
    "outputId": "38558f9b-14ae-42cf-ddb5-9db43f5f0449"
   },
   "outputs": [
    {
     "data": {
      "text/plain": [
       "array([4, 6, 8])"
      ]
     },
     "execution_count": 85,
     "metadata": {},
     "output_type": "execute_result"
    }
   ],
   "source": [
    "A + B  # 산술 연산자"
   ]
  },
  {
   "cell_type": "code",
   "execution_count": 86,
   "metadata": {
    "colab": {
     "base_uri": "https://localhost:8080/"
    },
    "id": "olnfa_gcBVQ-",
    "outputId": "d7b78575-50e3-4bb5-cbf6-46e1812985b0"
   },
   "outputs": [
    {
     "data": {
      "text/plain": [
       "array([4, 6, 8])"
      ]
     },
     "execution_count": 86,
     "metadata": {},
     "output_type": "execute_result"
    }
   ],
   "source": [
    "np.add(A,B)  # 범용 함수"
   ]
  },
  {
   "cell_type": "markdown",
   "metadata": {
    "id": "m9ug63AYC-mW"
   },
   "source": [
    "- 범용함수는 공통적으로 함수의 마지막 인수로 출력인수를 사용하여 결과를 저장할 변수를 지정할 수 있음  \n",
    "        function_name(x1, x2[, ouput])\n",
    "- 출력 인수의 지정은 많은 양의 데이터를 연산해야 할 경우 메모리를 절약할 수 있음"
   ]
  },
  {
   "cell_type": "code",
   "execution_count": 87,
   "metadata": {
    "colab": {
     "base_uri": "https://localhost:8080/"
    },
    "id": "UAam_xUgBXkH",
    "outputId": "6b56f80b-3428-4c02-b729-8f9ce6d50364"
   },
   "outputs": [
    {
     "data": {
      "text/plain": [
       "(132109756814064, 132109704990320)"
      ]
     },
     "execution_count": 87,
     "metadata": {},
     "output_type": "execute_result"
    }
   ],
   "source": [
    "id(A), id(B)"
   ]
  },
  {
   "cell_type": "code",
   "execution_count": 88,
   "metadata": {
    "colab": {
     "base_uri": "https://localhost:8080/"
    },
    "id": "Fhtl1qG5DnMn",
    "outputId": "3d0dda74-44f1-432d-9b1a-a9d98f65f176"
   },
   "outputs": [
    {
     "data": {
      "text/plain": [
       "array([4, 6, 8])"
      ]
     },
     "execution_count": 88,
     "metadata": {},
     "output_type": "execute_result"
    }
   ],
   "source": [
    "np.add(A, B, A)"
   ]
  },
  {
   "cell_type": "code",
   "execution_count": 89,
   "metadata": {
    "colab": {
     "base_uri": "https://localhost:8080/"
    },
    "id": "xclKjcmtDzje",
    "outputId": "2dc8b56d-62e9-48f1-e3c3-1b37f482a6fa"
   },
   "outputs": [
    {
     "data": {
      "text/plain": [
       "array([4, 6, 8])"
      ]
     },
     "execution_count": 89,
     "metadata": {},
     "output_type": "execute_result"
    }
   ],
   "source": [
    "A"
   ]
  },
  {
   "cell_type": "code",
   "execution_count": 90,
   "metadata": {
    "colab": {
     "base_uri": "https://localhost:8080/"
    },
    "id": "Nn7oW0FwDuZv",
    "outputId": "0659c93f-5a28-46db-e9a1-e7f25cb4c175"
   },
   "outputs": [
    {
     "data": {
      "text/plain": [
       "132109756814064"
      ]
     },
     "execution_count": 90,
     "metadata": {},
     "output_type": "execute_result"
    }
   ],
   "source": [
    "id(A)"
   ]
  },
  {
   "cell_type": "code",
   "execution_count": 91,
   "metadata": {
    "id": "QcZ2wXr9Dvwf"
   },
   "outputs": [],
   "source": [
    "A = np.arange(3)\n",
    "B = np.arange(4,7)\n",
    "C = np.array([20,30,40])"
   ]
  },
  {
   "cell_type": "code",
   "execution_count": 92,
   "metadata": {
    "colab": {
     "base_uri": "https://localhost:8080/"
    },
    "id": "cj0753OiEL6v",
    "outputId": "4e56eb59-f848-49f8-9919-c11a8fc76b76"
   },
   "outputs": [
    {
     "data": {
      "text/plain": [
       "array([0, 1, 2])"
      ]
     },
     "execution_count": 92,
     "metadata": {},
     "output_type": "execute_result"
    }
   ],
   "source": [
    "A"
   ]
  },
  {
   "cell_type": "code",
   "execution_count": 93,
   "metadata": {
    "colab": {
     "base_uri": "https://localhost:8080/"
    },
    "id": "-M8x1RewENCH",
    "outputId": "311b3f87-4191-4e5a-c150-bb9d102b2764"
   },
   "outputs": [
    {
     "data": {
      "text/plain": [
       "array([4, 5, 6])"
      ]
     },
     "execution_count": 93,
     "metadata": {},
     "output_type": "execute_result"
    }
   ],
   "source": [
    "B"
   ]
  },
  {
   "cell_type": "code",
   "execution_count": 94,
   "metadata": {
    "colab": {
     "base_uri": "https://localhost:8080/"
    },
    "id": "mti92DtJENY3",
    "outputId": "439c3b15-314f-4130-c27b-fa8f88237465"
   },
   "outputs": [
    {
     "data": {
      "text/plain": [
       "array([20, 30, 40])"
      ]
     },
     "execution_count": 94,
     "metadata": {},
     "output_type": "execute_result"
    }
   ],
   "source": [
    "C"
   ]
  },
  {
   "cell_type": "code",
   "execution_count": 95,
   "metadata": {
    "id": "NRnOwcimENr_"
   },
   "outputs": [],
   "source": [
    "G = A*B + C"
   ]
  },
  {
   "cell_type": "code",
   "execution_count": 96,
   "metadata": {
    "id": "wRxSULLkERB_"
   },
   "outputs": [],
   "source": [
    "T1 = A * B\n",
    "G = T1 + C\n",
    "del T1"
   ]
  },
  {
   "cell_type": "code",
   "execution_count": 97,
   "metadata": {
    "colab": {
     "base_uri": "https://localhost:8080/"
    },
    "id": "OvI2c7OVEXXA",
    "outputId": "dd4cc935-063f-4cd0-ad28-a3cf12f9eec6"
   },
   "outputs": [
    {
     "data": {
      "text/plain": [
       "array([20, 35, 52])"
      ]
     },
     "execution_count": 97,
     "metadata": {},
     "output_type": "execute_result"
    }
   ],
   "source": [
    "G = A * B\n",
    "np.add(G, C, G)"
   ]
  },
  {
   "cell_type": "code",
   "execution_count": 98,
   "metadata": {
    "id": "kgUUrwpZEdDf"
   },
   "outputs": [],
   "source": [
    "G = A * B\n",
    "G += C"
   ]
  },
  {
   "cell_type": "markdown",
   "metadata": {
    "id": "G5AyZ14OEkp3"
   },
   "source": [
    "=> 위 수식들의 연산 결과는 모두 동일하나, 출력인수를 사용했을 때 메모리 사용량이 좀 더 줄어들 수 있음  \n",
    "\n",
    "참고: https://docs.scipy.org/doc/numpy/reference/ufuncs.html"
   ]
  },
  {
   "cell_type": "markdown",
   "metadata": {
    "id": "16VLteBGJCrH"
   },
   "source": [
    "### 11. 브로드 캐스팅 규칙\n",
    "##### 1) 배열과 스칼라 연산\n",
    "- 가장 간단한 예제는 배열과 스칼라 값이 연산에서 결합될 때 발생  \n",
    "  스칼라 : 벡터 공간에서 벡터를 곱할 수 있는 양\n",
    "- 연산시 메모리 사용량을 줄임  "
   ]
  },
  {
   "cell_type": "code",
   "execution_count": 99,
   "metadata": {
    "colab": {
     "base_uri": "https://localhost:8080/"
    },
    "id": "y5pGOooPFBr5",
    "outputId": "3c728e59-f075-4961-b107-11ee0cbb3e12"
   },
   "outputs": [
    {
     "data": {
      "text/plain": [
       "array([2, 4, 6])"
      ]
     },
     "execution_count": 99,
     "metadata": {},
     "output_type": "execute_result"
    }
   ],
   "source": [
    "A = np.array([1,2,3])\n",
    "B = np.array([2,2,2])\n",
    "A * B"
   ]
  },
  {
   "cell_type": "code",
   "execution_count": 100,
   "metadata": {
    "colab": {
     "base_uri": "https://localhost:8080/"
    },
    "id": "VxcVZpaBEg4v",
    "outputId": "1ce2d3f5-907f-45b4-99d9-40685c3d3e8d"
   },
   "outputs": [
    {
     "data": {
      "text/plain": [
       "array([2, 4, 6])"
      ]
     },
     "execution_count": 100,
     "metadata": {},
     "output_type": "execute_result"
    }
   ],
   "source": [
    "np.multiply(A, B)"
   ]
  },
  {
   "cell_type": "markdown",
   "metadata": {
    "id": "tIl_anSALaiI"
   },
   "source": [
    "![브로드캐스팅1.png](data:image/png;base64,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)"
   ]
  },
  {
   "cell_type": "code",
   "execution_count": 101,
   "metadata": {
    "colab": {
     "base_uri": "https://localhost:8080/"
    },
    "id": "ArOaKchOKcCT",
    "outputId": "ce525fc7-9cf1-413c-c892-147548eee56a"
   },
   "outputs": [
    {
     "data": {
      "text/plain": [
       "array([1, 2, 3])"
      ]
     },
     "execution_count": 101,
     "metadata": {},
     "output_type": "execute_result"
    }
   ],
   "source": [
    "A"
   ]
  },
  {
   "cell_type": "code",
   "execution_count": 102,
   "metadata": {
    "id": "YfXoaVZ8KtJp"
   },
   "outputs": [],
   "source": [
    "B = 2"
   ]
  },
  {
   "cell_type": "code",
   "execution_count": 103,
   "metadata": {
    "colab": {
     "base_uri": "https://localhost:8080/"
    },
    "id": "HA57dDO6Kurw",
    "outputId": "aefcf70f-e8c1-4be7-b456-2e1d3ce9b847"
   },
   "outputs": [
    {
     "data": {
      "text/plain": [
       "array([2, 4, 6])"
      ]
     },
     "execution_count": 103,
     "metadata": {},
     "output_type": "execute_result"
    }
   ],
   "source": [
    "A * B  # 가장 간단한 브로드 캐스팅 예"
   ]
  },
  {
   "cell_type": "markdown",
   "metadata": {
    "id": "4XGSe_6CLGB4"
   },
   "source": [
    "##### 2) 브로드 캐스팅 규칙\n",
    "- ‘연산의 두 배열에 대한 후미 축의 크기가 같거나 둘 중 하나가 1이어야 한다.’![브로드캐스팅2.png](data:image/png;base64,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)"
   ]
  },
  {
   "cell_type": "code",
   "execution_count": 104,
   "metadata": {
    "id": "5Ytfs79CKwRA"
   },
   "outputs": [],
   "source": [
    "A = np.array([[ 0, 0, 0],\n",
    "              [10,10,10],\n",
    "              [20,20,20],\n",
    "              [30,30,30]])"
   ]
  },
  {
   "cell_type": "code",
   "execution_count": 105,
   "metadata": {
    "id": "_4wTJC13MLup"
   },
   "outputs": [],
   "source": [
    "B = np.array([1,2,3])"
   ]
  },
  {
   "cell_type": "code",
   "execution_count": 106,
   "metadata": {
    "colab": {
     "base_uri": "https://localhost:8080/"
    },
    "id": "OyW7tYJDMPva",
    "outputId": "47a84613-b287-4c8b-cb3a-a430aba9546a"
   },
   "outputs": [
    {
     "data": {
      "text/plain": [
       "array([[ 1,  2,  3],\n",
       "       [11, 12, 13],\n",
       "       [21, 22, 23],\n",
       "       [31, 32, 33]])"
      ]
     },
     "execution_count": 106,
     "metadata": {},
     "output_type": "execute_result"
    }
   ],
   "source": [
    "A + B"
   ]
  },
  {
   "cell_type": "markdown",
   "metadata": {
    "id": "hpUDUX7bMY3I"
   },
   "source": [
    "- 두 배열의 바깥 쪽(또는 다른 모든 바깥 쪽) 작업을 수행하는 편리한 방법을 제공함![브로드캐스팅3.png](data:image/png;base64,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)"
   ]
  },
  {
   "cell_type": "code",
   "execution_count": 107,
   "metadata": {
    "id": "1-BzNAXLMn04"
   },
   "outputs": [],
   "source": [
    "A = np.array([0,10,20,30])\n",
    "B = np.array([1,2,3])"
   ]
  },
  {
   "cell_type": "code",
   "execution_count": 108,
   "metadata": {
    "colab": {
     "base_uri": "https://localhost:8080/"
    },
    "id": "JQzm1JotMSTx",
    "outputId": "b8f84317-19cc-4c3b-9036-754e33012518"
   },
   "outputs": [
    {
     "data": {
      "text/plain": [
       "array([[ 0],\n",
       "       [10],\n",
       "       [20],\n",
       "       [30]])"
      ]
     },
     "execution_count": 108,
     "metadata": {},
     "output_type": "execute_result"
    }
   ],
   "source": [
    "A[:, np.newaxis]"
   ]
  },
  {
   "cell_type": "code",
   "execution_count": 109,
   "metadata": {
    "colab": {
     "base_uri": "https://localhost:8080/"
    },
    "id": "KUljBESuNHV4",
    "outputId": "a7808d2a-cd95-4cba-8809-afe8a1282d82"
   },
   "outputs": [
    {
     "data": {
      "text/plain": [
       "array([1, 2, 3])"
      ]
     },
     "execution_count": 109,
     "metadata": {},
     "output_type": "execute_result"
    }
   ],
   "source": [
    "B"
   ]
  },
  {
   "cell_type": "code",
   "execution_count": 110,
   "metadata": {
    "colab": {
     "base_uri": "https://localhost:8080/"
    },
    "id": "iMEBo2AjNK1p",
    "outputId": "3e334791-3f60-4999-b977-e4bfa64df9e0"
   },
   "outputs": [
    {
     "data": {
      "text/plain": [
       "array([[ 1,  2,  3],\n",
       "       [11, 12, 13],\n",
       "       [21, 22, 23],\n",
       "       [31, 32, 33]])"
      ]
     },
     "execution_count": 110,
     "metadata": {},
     "output_type": "execute_result"
    }
   ],
   "source": [
    "A[:, np.newaxis] + B"
   ]
  }
 ],
 "metadata": {
  "colab": {
   "provenance": []
  },
  "kernelspec": {
   "display_name": "Python 3 (ipykernel)",
   "language": "python",
   "name": "python3"
  },
  "language_info": {
   "codemirror_mode": {
    "name": "ipython",
    "version": 3
   },
   "file_extension": ".py",
   "mimetype": "text/x-python",
   "name": "python",
   "nbconvert_exporter": "python",
   "pygments_lexer": "ipython3",
   "version": "3.11.5"
  }
 },
 "nbformat": 4,
 "nbformat_minor": 1
}
