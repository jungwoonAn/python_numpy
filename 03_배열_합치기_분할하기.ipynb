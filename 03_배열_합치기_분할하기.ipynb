{
 "cells": [
  {
   "cell_type": "markdown",
   "metadata": {
    "id": "cqsyu46LOgSR"
   },
   "source": [
    "# 03_배열 합치기/분할하기\n",
    "### 1. 파이썬 요소의 인덱스(위치)\n",
    "- 맨 처음 요소의 인덱스는 0이며 이후로 1씩 증가하도록 양수로 지정하는 것이 일반적임  \n",
    "- 맨 뒤의 항목부터 음수를 이용해 지정할 수 있음  "
   ]
  },
  {
   "cell_type": "code",
   "execution_count": 1,
   "metadata": {
    "id": "clMGpI_MPKDI"
   },
   "outputs": [],
   "source": [
    "import numpy as np"
   ]
  },
  {
   "cell_type": "code",
   "execution_count": 2,
   "metadata": {
    "colab": {
     "base_uri": "https://localhost:8080/"
    },
    "id": "ytVe0XJXOu9C",
    "outputId": "74faa4ac-0d6f-43eb-e18f-7ad07a278472"
   },
   "outputs": [
    {
     "data": {
      "text/plain": [
       "array([  0,   1,   8,  27,  64, 125, 216, 343, 512, 729])"
      ]
     },
     "execution_count": 2,
     "metadata": {},
     "output_type": "execute_result"
    }
   ],
   "source": [
    "A = np.arange(10) ** 3\n",
    "A"
   ]
  },
  {
   "cell_type": "markdown",
   "metadata": {
    "id": "KdhLkDQUPUWw"
   },
   "source": [
    "![인덱스.png](data:image/png;base64,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)"
   ]
  },
  {
   "cell_type": "markdown",
   "metadata": {
    "id": "flSWT0yNPwvZ"
   },
   "source": [
    "### 2. 인덱싱\n",
    "    np.array_obj[index]"
   ]
  },
  {
   "cell_type": "code",
   "execution_count": 3,
   "metadata": {
    "colab": {
     "base_uri": "https://localhost:8080/"
    },
    "id": "axQY548DPM3q",
    "outputId": "94120cf6-d4f7-4aff-c6bc-82477cf741c2"
   },
   "outputs": [
    {
     "data": {
      "text/plain": [
       "0"
      ]
     },
     "execution_count": 3,
     "metadata": {},
     "output_type": "execute_result"
    }
   ],
   "source": [
    "A[0]"
   ]
  },
  {
   "cell_type": "code",
   "execution_count": 4,
   "metadata": {
    "colab": {
     "base_uri": "https://localhost:8080/"
    },
    "id": "UST_8xqrPHLc",
    "outputId": "7f969ab6-1e90-4856-a2e0-0f2250bec933"
   },
   "outputs": [
    {
     "data": {
      "text/plain": [
       "8"
      ]
     },
     "execution_count": 4,
     "metadata": {},
     "output_type": "execute_result"
    }
   ],
   "source": [
    "A[2]  # 양수 인덱스로 인덱싱"
   ]
  },
  {
   "cell_type": "code",
   "execution_count": 5,
   "metadata": {
    "colab": {
     "base_uri": "https://localhost:8080/"
    },
    "id": "VNOfAeE4ObFD",
    "outputId": "1545a5fd-0716-4627-a32e-eef27791bb7a"
   },
   "outputs": [
    {
     "data": {
      "text/plain": [
       "729"
      ]
     },
     "execution_count": 5,
     "metadata": {},
     "output_type": "execute_result"
    }
   ],
   "source": [
    "A[-1]  # 음수 인덱스로 인덱싱"
   ]
  },
  {
   "cell_type": "code",
   "execution_count": 6,
   "metadata": {
    "colab": {
     "base_uri": "https://localhost:8080/"
    },
    "id": "eDeFWiaoPqpK",
    "outputId": "06f16977-fbdd-402b-fe04-73150252668e"
   },
   "outputs": [
    {
     "data": {
      "text/plain": [
       "512"
      ]
     },
     "execution_count": 6,
     "metadata": {},
     "output_type": "execute_result"
    }
   ],
   "source": [
    "A[-2]"
   ]
  },
  {
   "cell_type": "code",
   "execution_count": 7,
   "metadata": {
    "colab": {
     "base_uri": "https://localhost:8080/",
     "height": 147
    },
    "id": "78LnXyO-PsBp",
    "outputId": "8af1c392-585b-4de3-fd84-1f910547f800"
   },
   "outputs": [
    {
     "ename": "IndexError",
     "evalue": "index 10 is out of bounds for axis 0 with size 10",
     "output_type": "error",
     "traceback": [
      "\u001b[0;31m---------------------------------------------------------------------------\u001b[0m",
      "\u001b[0;31mIndexError\u001b[0m                                Traceback (most recent call last)",
      "\u001b[0;32m<ipython-input-7-26f2fc69ed11>\u001b[0m in \u001b[0;36m<cell line: 1>\u001b[0;34m()\u001b[0m\n\u001b[0;32m----> 1\u001b[0;31m \u001b[0mA\u001b[0m\u001b[0;34m[\u001b[0m\u001b[0;36m10\u001b[0m\u001b[0;34m]\u001b[0m  \u001b[0;31m# 인덱스 범위를 벗어나면 오류 발생\u001b[0m\u001b[0;34m\u001b[0m\u001b[0;34m\u001b[0m\u001b[0m\n\u001b[0m",
      "\u001b[0;31mIndexError\u001b[0m: index 10 is out of bounds for axis 0 with size 10"
     ]
    }
   ],
   "source": [
    "A[10]  # 인덱스 범위를 벗어나면 오류 발생"
   ]
  },
  {
   "cell_type": "markdown",
   "metadata": {
    "id": "3tlTvOjtQKM5"
   },
   "source": [
    "### 3. 슬라이싱\n",
    "     np_array_obj[ from: to]: from부터 to까지(to포함 안함)\n",
    "\n",
    "     np_array_obj[ from : to : by ] : from부터 to까지 by 마다(to포함 안함)"
   ]
  },
  {
   "cell_type": "code",
   "execution_count": 8,
   "metadata": {
    "colab": {
     "base_uri": "https://localhost:8080/"
    },
    "id": "UR-14VkoQIzr",
    "outputId": "47d68dc7-5feb-40d0-fe46-54e84a6e0d2c"
   },
   "outputs": [
    {
     "data": {
      "text/plain": [
       "array([ 8, 27, 64])"
      ]
     },
     "execution_count": 8,
     "metadata": {},
     "output_type": "execute_result"
    }
   ],
   "source": [
    "A[2:5]"
   ]
  },
  {
   "cell_type": "code",
   "execution_count": 9,
   "metadata": {
    "colab": {
     "base_uri": "https://localhost:8080/"
    },
    "id": "fh-H3vEjQZsC",
    "outputId": "7d296349-e34d-4a67-a0ef-1c8d57288a53"
   },
   "outputs": [
    {
     "data": {
      "text/plain": [
       "array([  0,   8,  64, 216, 512])"
      ]
     },
     "execution_count": 9,
     "metadata": {},
     "output_type": "execute_result"
    }
   ],
   "source": [
    "A[0:9:2]"
   ]
  },
  {
   "cell_type": "code",
   "execution_count": 10,
   "metadata": {
    "colab": {
     "base_uri": "https://localhost:8080/"
    },
    "id": "rU7c7a_nQfWR",
    "outputId": "aca4dca2-3bbd-4954-d509-28992503a080"
   },
   "outputs": [
    {
     "data": {
      "text/plain": [
       "array([  0,   8,  64, 216, 512])"
      ]
     },
     "execution_count": 10,
     "metadata": {},
     "output_type": "execute_result"
    }
   ],
   "source": [
    "A[::2]  # from과 to를 생략하면 자동 지정(배열의 처음부터 끝까지)"
   ]
  },
  {
   "cell_type": "code",
   "execution_count": 11,
   "metadata": {
    "colab": {
     "base_uri": "https://localhost:8080/"
    },
    "id": "PFC-bRIQQ7W7",
    "outputId": "862975eb-a8ff-48e6-e2fa-89b456844be9"
   },
   "outputs": [
    {
     "data": {
      "text/plain": [
       "array([729, 512, 343, 216, 125,  64,  27,   8,   1,   0])"
      ]
     },
     "execution_count": 11,
     "metadata": {},
     "output_type": "execute_result"
    }
   ],
   "source": [
    "A[::-1]"
   ]
  },
  {
   "cell_type": "code",
   "execution_count": 12,
   "metadata": {
    "colab": {
     "base_uri": "https://localhost:8080/"
    },
    "id": "wwpNPoivQ-7S",
    "outputId": "ca5435fe-5452-4bd8-cd16-cb49c789aa61"
   },
   "outputs": [
    {
     "data": {
      "text/plain": [
       "array([-1000,     1, -1000,    27, -1000,   125,   216,   343,   512,\n",
       "         729])"
      ]
     },
     "execution_count": 12,
     "metadata": {},
     "output_type": "execute_result"
    }
   ],
   "source": [
    "A[:6:2] = -1000  # 할당문을 가지면 값을 변경할 수 있음\n",
    "A"
   ]
  },
  {
   "cell_type": "markdown",
   "metadata": {
    "id": "taChaZX9kl_N"
   },
   "source": [
    "### 4. 다차원 배열 인덱싱\n",
    "- 2차원 배열 인덱싱\n",
    "        np_array_obj[0축인덱스, 1축인덱스]\n",
    "- 3차원 배열 인덱싱\n",
    "        np_array_obj[0축인덱스, 1축인덱스, 2축인덱스]"
   ]
  },
  {
   "cell_type": "code",
   "execution_count": 13,
   "metadata": {
    "id": "QPGlCyNORSXb"
   },
   "outputs": [],
   "source": [
    "B = np.arange(20).reshape(5,4)"
   ]
  },
  {
   "cell_type": "code",
   "execution_count": 14,
   "metadata": {
    "colab": {
     "base_uri": "https://localhost:8080/"
    },
    "id": "ddrt0llolB0v",
    "outputId": "443527d0-95f3-414c-deb5-eddef07d0b42"
   },
   "outputs": [
    {
     "data": {
      "text/plain": [
       "array([[ 0,  1,  2,  3],\n",
       "       [ 4,  5,  6,  7],\n",
       "       [ 8,  9, 10, 11],\n",
       "       [12, 13, 14, 15],\n",
       "       [16, 17, 18, 19]])"
      ]
     },
     "execution_count": 14,
     "metadata": {},
     "output_type": "execute_result"
    }
   ],
   "source": [
    "B"
   ]
  },
  {
   "cell_type": "code",
   "execution_count": 15,
   "metadata": {
    "colab": {
     "base_uri": "https://localhost:8080/"
    },
    "id": "GBNTRY-SlDa5",
    "outputId": "3afd4524-462f-4d40-e3e4-6d160945d0b3"
   },
   "outputs": [
    {
     "data": {
      "text/plain": [
       "11"
      ]
     },
     "execution_count": 15,
     "metadata": {},
     "output_type": "execute_result"
    }
   ],
   "source": [
    "B[2,3]"
   ]
  },
  {
   "cell_type": "code",
   "execution_count": 16,
   "metadata": {
    "colab": {
     "base_uri": "https://localhost:8080/"
    },
    "id": "-qgM3ULwlNXe",
    "outputId": "dcf88afa-e96a-4d95-bab6-6a864e4b104f"
   },
   "outputs": [
    {
     "data": {
      "text/plain": [
       "11"
      ]
     },
     "execution_count": 16,
     "metadata": {},
     "output_type": "execute_result"
    }
   ],
   "source": [
    "B[-3, -1]"
   ]
  },
  {
   "cell_type": "code",
   "execution_count": 17,
   "metadata": {
    "id": "Wfrz4V16lCeG"
   },
   "outputs": [],
   "source": [
    "C = np.arange(24).reshape(2,3,4)"
   ]
  },
  {
   "cell_type": "code",
   "execution_count": 18,
   "metadata": {
    "colab": {
     "base_uri": "https://localhost:8080/"
    },
    "id": "z3SS0JDxlW_m",
    "outputId": "5aa5b561-5a12-4973-d2ee-6f1dcaca4a33"
   },
   "outputs": [
    {
     "data": {
      "text/plain": [
       "array([[[ 0,  1,  2,  3],\n",
       "        [ 4,  5,  6,  7],\n",
       "        [ 8,  9, 10, 11]],\n",
       "\n",
       "       [[12, 13, 14, 15],\n",
       "        [16, 17, 18, 19],\n",
       "        [20, 21, 22, 23]]])"
      ]
     },
     "execution_count": 18,
     "metadata": {},
     "output_type": "execute_result"
    }
   ],
   "source": [
    "C"
   ]
  },
  {
   "cell_type": "code",
   "execution_count": 19,
   "metadata": {
    "colab": {
     "base_uri": "https://localhost:8080/"
    },
    "id": "1AF7mwcRlXpu",
    "outputId": "6680463d-b8d3-450e-9811-b3bbeb929327"
   },
   "outputs": [
    {
     "data": {
      "text/plain": [
       "6"
      ]
     },
     "execution_count": 19,
     "metadata": {},
     "output_type": "execute_result"
    }
   ],
   "source": [
    "C[0,1,2]"
   ]
  },
  {
   "cell_type": "code",
   "execution_count": 20,
   "metadata": {
    "colab": {
     "base_uri": "https://localhost:8080/"
    },
    "id": "FHjHDYCTlbBP",
    "outputId": "44c6438f-6c2e-405a-887c-f0e0dae6b7e6"
   },
   "outputs": [
    {
     "data": {
      "text/plain": [
       "23"
      ]
     },
     "execution_count": 20,
     "metadata": {},
     "output_type": "execute_result"
    }
   ],
   "source": [
    "C[1,2,3]"
   ]
  },
  {
   "cell_type": "markdown",
   "metadata": {
    "id": "U2Hxb6srlete"
   },
   "source": [
    "### 5. 다차원 배열 슬라이싱\n",
    "     np_array_obj[ from:to ]\n",
    "     np_array_obj[ from:to:by ]\n",
    "- 차원이 여러 개인 경우 콤마로 구분해서 각 차원별로 from, to 인덱스를 지정"
   ]
  },
  {
   "cell_type": "code",
   "execution_count": 21,
   "metadata": {
    "colab": {
     "base_uri": "https://localhost:8080/"
    },
    "id": "YaEvl-ClldO-",
    "outputId": "be850a05-901d-445a-f823-f0ac9657d239"
   },
   "outputs": [
    {
     "data": {
      "text/plain": [
       "array([[ 0,  1,  2,  3],\n",
       "       [ 4,  5,  6,  7],\n",
       "       [ 8,  9, 10, 11],\n",
       "       [12, 13, 14, 15],\n",
       "       [16, 17, 18, 19]])"
      ]
     },
     "execution_count": 21,
     "metadata": {},
     "output_type": "execute_result"
    }
   ],
   "source": [
    "B"
   ]
  },
  {
   "cell_type": "code",
   "execution_count": 22,
   "metadata": {
    "colab": {
     "base_uri": "https://localhost:8080/"
    },
    "id": "Fqv2VmrqlxIu",
    "outputId": "8f323597-9bab-4a3b-c092-99d38efa1976"
   },
   "outputs": [
    {
     "data": {
      "text/plain": [
       "array([ 1,  5,  9, 13, 17])"
      ]
     },
     "execution_count": 22,
     "metadata": {},
     "output_type": "execute_result"
    }
   ],
   "source": [
    "B[0:5, 1]  # 0행부터 5행까지 1열 데이터"
   ]
  },
  {
   "cell_type": "code",
   "execution_count": 23,
   "metadata": {
    "colab": {
     "base_uri": "https://localhost:8080/"
    },
    "id": "2m0K6Fy_l1y2",
    "outputId": "341babed-63c5-4d00-fcbe-070071bc83a0"
   },
   "outputs": [
    {
     "data": {
      "text/plain": [
       "array([ 1,  5,  9, 13, 17])"
      ]
     },
     "execution_count": 23,
     "metadata": {},
     "output_type": "execute_result"
    }
   ],
   "source": [
    "B[:, 1]  # 모든 행 1열 데이터"
   ]
  },
  {
   "cell_type": "code",
   "execution_count": 24,
   "metadata": {
    "colab": {
     "base_uri": "https://localhost:8080/",
     "height": 110
    },
    "id": "ZvyULHHtmv62",
    "outputId": "eef98100-1d9d-45e9-9117-0679a05eea92"
   },
   "outputs": [
    {
     "ename": "SyntaxError",
     "evalue": "invalid syntax (<ipython-input-24-ce865b32c96c>, line 1)",
     "output_type": "error",
     "traceback": [
      "\u001b[0;36m  File \u001b[0;32m\"<ipython-input-24-ce865b32c96c>\"\u001b[0;36m, line \u001b[0;32m1\u001b[0m\n\u001b[0;31m    B[ , 1]\u001b[0m\n\u001b[0m       ^\u001b[0m\n\u001b[0;31mSyntaxError\u001b[0m\u001b[0;31m:\u001b[0m invalid syntax\n"
     ]
    }
   ],
   "source": [
    "B[ , 1]"
   ]
  },
  {
   "cell_type": "code",
   "execution_count": 25,
   "metadata": {
    "colab": {
     "base_uri": "https://localhost:8080/"
    },
    "id": "UxrzAZAHmHlA",
    "outputId": "321c67f2-b274-43a6-dd9b-4f043fdf653a"
   },
   "outputs": [
    {
     "data": {
      "text/plain": [
       "array([[ 4,  5,  6,  7],\n",
       "       [ 8,  9, 10, 11]])"
      ]
     },
     "execution_count": 25,
     "metadata": {},
     "output_type": "execute_result"
    }
   ],
   "source": [
    "B[1:3, :]  # 1행부터 3행까지 모든 열 데이터"
   ]
  },
  {
   "cell_type": "markdown",
   "metadata": {
    "id": "MY2KSa6Lm4dt"
   },
   "source": [
    "=> 축 인덱스 생략 시 선행 축 인덱스는 생략할 수 없음, 후행 축은 생략 가능함."
   ]
  },
  {
   "cell_type": "markdown",
   "metadata": {
    "id": "UDd67B60ozMW"
   },
   "source": [
    "### 6. 축 인덱스의 생략\n",
    "- 축의 수보다 더 적은 수의 인덱스가 제공되면 누락된 인덱스는 모든 항목을 선택함\n",
    "- 넘파이에서 도트를 사용하여 B[i,...] 형식으로 작성"
   ]
  },
  {
   "cell_type": "code",
   "execution_count": 26,
   "metadata": {
    "colab": {
     "base_uri": "https://localhost:8080/"
    },
    "id": "nZn74agxmxyW",
    "outputId": "2a3cf08a-d88d-4b77-e945-34135a64faa0"
   },
   "outputs": [
    {
     "data": {
      "text/plain": [
       "array([4, 5, 6, 7])"
      ]
     },
     "execution_count": 26,
     "metadata": {},
     "output_type": "execute_result"
    }
   ],
   "source": [
    "B[1]  # 1행 모든 요소"
   ]
  },
  {
   "cell_type": "code",
   "execution_count": 27,
   "metadata": {
    "colab": {
     "base_uri": "https://localhost:8080/"
    },
    "id": "GR49YuJgnFTw",
    "outputId": "4d41672d-7167-40d1-97aa-09e880dbce8a"
   },
   "outputs": [
    {
     "data": {
      "text/plain": [
       "array([ 1,  5,  9, 13, 17])"
      ]
     },
     "execution_count": 27,
     "metadata": {},
     "output_type": "execute_result"
    }
   ],
   "source": [
    "B[:, 1]  # 1열의 모든 요소"
   ]
  },
  {
   "cell_type": "code",
   "execution_count": 28,
   "metadata": {
    "colab": {
     "base_uri": "https://localhost:8080/"
    },
    "id": "fUBvc1JCnZN-",
    "outputId": "381bca87-c32d-41e6-e903-f9b94892b479"
   },
   "outputs": [
    {
     "data": {
      "text/plain": [
       "array([[[ 0,  1,  2,  3],\n",
       "        [ 4,  5,  6,  7],\n",
       "        [ 8,  9, 10, 11]],\n",
       "\n",
       "       [[12, 13, 14, 15],\n",
       "        [16, 17, 18, 19],\n",
       "        [20, 21, 22, 23]]])"
      ]
     },
     "execution_count": 28,
     "metadata": {},
     "output_type": "execute_result"
    }
   ],
   "source": [
    "C"
   ]
  },
  {
   "cell_type": "code",
   "execution_count": 29,
   "metadata": {
    "colab": {
     "base_uri": "https://localhost:8080/"
    },
    "id": "g3uSOdjdnIS_",
    "outputId": "615d0fd4-95ea-4f95-bf8d-c21cd968bf03"
   },
   "outputs": [
    {
     "data": {
      "text/plain": [
       "array([[[ 1,  2],\n",
       "        [ 5,  6]],\n",
       "\n",
       "       [[13, 14],\n",
       "        [17, 18]]])"
      ]
     },
     "execution_count": 29,
     "metadata": {},
     "output_type": "execute_result"
    }
   ],
   "source": [
    "C[:, 0:2, 1:3]  # 모든 축, 0~2행, 1~3행"
   ]
  },
  {
   "cell_type": "code",
   "execution_count": 30,
   "metadata": {
    "colab": {
     "base_uri": "https://localhost:8080/",
     "height": 110
    },
    "id": "WmYyWpRJoAN3",
    "outputId": "a5803bf2-ca4d-46d6-aa75-c70cb8eb931e"
   },
   "outputs": [
    {
     "ename": "SyntaxError",
     "evalue": "invalid syntax (<ipython-input-30-488c38991526>, line 1)",
     "output_type": "error",
     "traceback": [
      "\u001b[0;36m  File \u001b[0;32m\"<ipython-input-30-488c38991526>\"\u001b[0;36m, line \u001b[0;32m1\u001b[0m\n\u001b[0;31m    C[, 0:2, 1:3]  # 선행 축은 생략 불가\u001b[0m\n\u001b[0m      ^\u001b[0m\n\u001b[0;31mSyntaxError\u001b[0m\u001b[0;31m:\u001b[0m invalid syntax\n"
     ]
    }
   ],
   "source": [
    "C[, 0:2, 1:3]  # 선행 축은 생략 불가"
   ]
  },
  {
   "cell_type": "code",
   "execution_count": 31,
   "metadata": {
    "colab": {
     "base_uri": "https://localhost:8080/"
    },
    "id": "hdqEcNSmoKvI",
    "outputId": "8f896587-14aa-4c04-bd85-8a29ed38b0d9"
   },
   "outputs": [
    {
     "data": {
      "text/plain": [
       "array([[[ 0,  1,  2,  3],\n",
       "        [ 4,  5,  6,  7]],\n",
       "\n",
       "       [[12, 13, 14, 15],\n",
       "        [16, 17, 18, 19]]])"
      ]
     },
     "execution_count": 31,
     "metadata": {},
     "output_type": "execute_result"
    }
   ],
   "source": [
    "C[:, 0:2,]  # 모든 축 0~2행 모든 열"
   ]
  },
  {
   "cell_type": "code",
   "execution_count": 32,
   "metadata": {
    "colab": {
     "base_uri": "https://localhost:8080/"
    },
    "id": "FR0vtj6lmS3p",
    "outputId": "9449ff7e-b1e8-4110-bf7c-ea2294d4254b"
   },
   "outputs": [
    {
     "data": {
      "text/plain": [
       "array([[12, 13, 14, 15],\n",
       "       [16, 17, 18, 19],\n",
       "       [20, 21, 22, 23]])"
      ]
     },
     "execution_count": 32,
     "metadata": {},
     "output_type": "execute_result"
    }
   ],
   "source": [
    "C[1]"
   ]
  },
  {
   "cell_type": "code",
   "execution_count": 33,
   "metadata": {
    "colab": {
     "base_uri": "https://localhost:8080/"
    },
    "id": "Ux1BEZUXpFCO",
    "outputId": "ae945a98-3172-4c5d-fae8-73e9e49cc225"
   },
   "outputs": [
    {
     "data": {
      "text/plain": [
       "array([[[ 0,  1,  2,  3],\n",
       "        [ 4,  5,  6,  7],\n",
       "        [ 8,  9, 10, 11]],\n",
       "\n",
       "       [[12, 13, 14, 15],\n",
       "        [16, 17, 18, 19],\n",
       "        [20, 21, 22, 23]]])"
      ]
     },
     "execution_count": 33,
     "metadata": {},
     "output_type": "execute_result"
    }
   ],
   "source": [
    "C[0:2]"
   ]
  },
  {
   "cell_type": "code",
   "execution_count": 34,
   "metadata": {
    "colab": {
     "base_uri": "https://localhost:8080/"
    },
    "id": "_RJP_sTEpHT4",
    "outputId": "946ce037-c0b4-4bf2-b382-d1cd59434889"
   },
   "outputs": [
    {
     "data": {
      "text/plain": [
       "array([[ 0,  1,  2,  3],\n",
       "       [ 4,  5,  6,  7],\n",
       "       [ 8,  9, 10, 11]])"
      ]
     },
     "execution_count": 34,
     "metadata": {},
     "output_type": "execute_result"
    }
   ],
   "source": [
    "C[0, ...]  # ...은 나머지 축들의 모든 항목을 선택"
   ]
  },
  {
   "cell_type": "code",
   "execution_count": 35,
   "metadata": {
    "colab": {
     "base_uri": "https://localhost:8080/"
    },
    "id": "SUkvZnstpRHe",
    "outputId": "dd39f4a5-5cd6-46f9-ab39-f917c6f487ea"
   },
   "outputs": [
    {
     "data": {
      "text/plain": [
       "array([[ 0,  4,  8],\n",
       "       [12, 16, 20]])"
      ]
     },
     "execution_count": 35,
     "metadata": {},
     "output_type": "execute_result"
    }
   ],
   "source": [
    "C[:, :, 0]"
   ]
  },
  {
   "cell_type": "code",
   "execution_count": 36,
   "metadata": {
    "colab": {
     "base_uri": "https://localhost:8080/"
    },
    "id": "E_Iwz2o_pXNn",
    "outputId": "60069a68-d1e1-43fd-f490-f1d128642d35"
   },
   "outputs": [
    {
     "data": {
      "text/plain": [
       "array([[ 0,  4,  8],\n",
       "       [12, 16, 20]])"
      ]
     },
     "execution_count": 36,
     "metadata": {},
     "output_type": "execute_result"
    }
   ],
   "source": [
    "C[..., 0]  # 3차원 배열의 경우 [:, :, 0]과 [..., 0]은 같음"
   ]
  },
  {
   "cell_type": "markdown",
   "metadata": {
    "id": "s2tjA1X8pmLO"
   },
   "source": [
    "### 7. 다차원 배열 반복\n",
    "- 다차원 배열의 반복문에 의한 처리는 첫번째 축을 기준으로 수행됨"
   ]
  },
  {
   "cell_type": "code",
   "execution_count": 37,
   "metadata": {
    "colab": {
     "base_uri": "https://localhost:8080/"
    },
    "id": "7EZ2rmtOps6u",
    "outputId": "0aa752cf-28a4-4c6f-f92e-a970118779e0"
   },
   "outputs": [
    {
     "name": "stdout",
     "output_type": "stream",
     "text": [
      "[0 1 2 3]\n",
      "[4 5 6 7]\n",
      "[ 8  9 10 11]\n",
      "[12 13 14 15]\n",
      "[16 17 18 19]\n"
     ]
    }
   ],
   "source": [
    "for row in B:\n",
    "    print(row)"
   ]
  },
  {
   "cell_type": "markdown",
   "metadata": {
    "id": "xLGoMCZKp1ee"
   },
   "source": [
    "- 배열의 flat 속성을 사용하면 하나의 반복문으로 모든 배열 요소에 연산을 수행할 수 있음"
   ]
  },
  {
   "cell_type": "code",
   "execution_count": 38,
   "metadata": {
    "colab": {
     "base_uri": "https://localhost:8080/"
    },
    "id": "-D0J2nwkp6Sn",
    "outputId": "c088d194-f01d-4be7-9e5a-d93890257fd1"
   },
   "outputs": [
    {
     "name": "stdout",
     "output_type": "stream",
     "text": [
      "0 1 2 3 4 5 6 7 8 9 10 11 12 13 14 15 16 17 18 19 "
     ]
    }
   ],
   "source": [
    "for element in B.flat:\n",
    "    print(element, end=\" \")"
   ]
  },
  {
   "cell_type": "markdown",
   "metadata": {
    "id": "Vt4r_rlMqCZP"
   },
   "source": [
    "### 8-1. 쌓기 - hstack(), vstack(), dstack()\n",
    "- **hstack()** : 배열을 옆에 추가하는 방식으로 쌓아 합침\n",
    "- **vstack()** : 배열을 아래에 추가하는 방식으로 쌓아 합침\n",
    "- **dstack()** : 3번째 축(depth)을 따라 쌓아 합침"
   ]
  },
  {
   "cell_type": "code",
   "execution_count": 39,
   "metadata": {
    "id": "S23A56PmqZEX"
   },
   "outputs": [],
   "source": [
    "A = np.arange(12).reshape(3,4)\n",
    "B = np.arange(12,24).reshape(3,4)"
   ]
  },
  {
   "cell_type": "code",
   "execution_count": 40,
   "metadata": {
    "colab": {
     "base_uri": "https://localhost:8080/"
    },
    "id": "FQQV8JfEqzMP",
    "outputId": "0b852355-7059-45b5-b33b-76ca0f39ace3"
   },
   "outputs": [
    {
     "data": {
      "text/plain": [
       "array([[ 0,  1,  2,  3],\n",
       "       [ 4,  5,  6,  7],\n",
       "       [ 8,  9, 10, 11]])"
      ]
     },
     "execution_count": 40,
     "metadata": {},
     "output_type": "execute_result"
    }
   ],
   "source": [
    "A"
   ]
  },
  {
   "cell_type": "code",
   "execution_count": 41,
   "metadata": {
    "colab": {
     "base_uri": "https://localhost:8080/"
    },
    "id": "9NEEoYa2qzy_",
    "outputId": "8ab09302-dad0-45ec-a24b-3e5604699d13"
   },
   "outputs": [
    {
     "data": {
      "text/plain": [
       "array([[12, 13, 14, 15],\n",
       "       [16, 17, 18, 19],\n",
       "       [20, 21, 22, 23]])"
      ]
     },
     "execution_count": 41,
     "metadata": {},
     "output_type": "execute_result"
    }
   ],
   "source": [
    "B"
   ]
  },
  {
   "cell_type": "code",
   "execution_count": 42,
   "metadata": {
    "colab": {
     "base_uri": "https://localhost:8080/"
    },
    "id": "bYUi_9CYq0Zv",
    "outputId": "e4ac0e07-6230-483e-97cb-119f909eb03a"
   },
   "outputs": [
    {
     "data": {
      "text/plain": [
       "array([[ 0,  1,  2,  3],\n",
       "       [ 4,  5,  6,  7],\n",
       "       [ 8,  9, 10, 11],\n",
       "       [12, 13, 14, 15],\n",
       "       [16, 17, 18, 19],\n",
       "       [20, 21, 22, 23]])"
      ]
     },
     "execution_count": 42,
     "metadata": {},
     "output_type": "execute_result"
    }
   ],
   "source": [
    "np.vstack((A,B))"
   ]
  },
  {
   "cell_type": "code",
   "execution_count": 43,
   "metadata": {
    "colab": {
     "base_uri": "https://localhost:8080/"
    },
    "id": "kYYe7HYgq6oP",
    "outputId": "4541f035-6283-4f75-8e4c-cf9fb7f78f05"
   },
   "outputs": [
    {
     "data": {
      "text/plain": [
       "array([[ 0,  1,  2,  3, 12, 13, 14, 15],\n",
       "       [ 4,  5,  6,  7, 16, 17, 18, 19],\n",
       "       [ 8,  9, 10, 11, 20, 21, 22, 23]])"
      ]
     },
     "execution_count": 43,
     "metadata": {},
     "output_type": "execute_result"
    }
   ],
   "source": [
    "np.hstack((A,B))"
   ]
  },
  {
   "cell_type": "code",
   "execution_count": 44,
   "metadata": {
    "colab": {
     "base_uri": "https://localhost:8080/"
    },
    "id": "2gLRpLZkq-hX",
    "outputId": "dcfa3c9f-f316-4812-8a84-337e70e7c515"
   },
   "outputs": [
    {
     "data": {
      "text/plain": [
       "array([[[ 0, 12],\n",
       "        [ 1, 13],\n",
       "        [ 2, 14],\n",
       "        [ 3, 15]],\n",
       "\n",
       "       [[ 4, 16],\n",
       "        [ 5, 17],\n",
       "        [ 6, 18],\n",
       "        [ 7, 19]],\n",
       "\n",
       "       [[ 8, 20],\n",
       "        [ 9, 21],\n",
       "        [10, 22],\n",
       "        [11, 23]]])"
      ]
     },
     "execution_count": 44,
     "metadata": {},
     "output_type": "execute_result"
    }
   ],
   "source": [
    "np.dstack((A,B))"
   ]
  },
  {
   "cell_type": "markdown",
   "metadata": {
    "id": "RbCxR93rrZPA"
   },
   "source": [
    "### 8-2. 쌓기 - colum_stack(), row_stack()\n",
    "- **column_stack()** : 1차원 배열을 열 단위로 배열하여 2차원 배열을 만듦"
   ]
  },
  {
   "cell_type": "code",
   "execution_count": 45,
   "metadata": {
    "id": "7fWgR0iawtYo"
   },
   "outputs": [],
   "source": [
    "A = np.array((1,2,3,4))\n",
    "B = np.array((5,6,7,8))\n",
    "C = np.array((9,10,11,12))"
   ]
  },
  {
   "cell_type": "code",
   "execution_count": 46,
   "metadata": {
    "colab": {
     "base_uri": "https://localhost:8080/"
    },
    "id": "mUT8g4Gxs47B",
    "outputId": "b11c6394-56e7-4f57-94f9-c2145cb10bed"
   },
   "outputs": [
    {
     "data": {
      "text/plain": [
       "array([1, 2, 3, 4])"
      ]
     },
     "execution_count": 46,
     "metadata": {},
     "output_type": "execute_result"
    }
   ],
   "source": [
    "A"
   ]
  },
  {
   "cell_type": "code",
   "execution_count": 47,
   "metadata": {
    "colab": {
     "base_uri": "https://localhost:8080/"
    },
    "id": "NakiOPUOs6Ro",
    "outputId": "b608c127-f026-4aa6-ce1b-bdb98782106e"
   },
   "outputs": [
    {
     "data": {
      "text/plain": [
       "array([5, 6, 7, 8])"
      ]
     },
     "execution_count": 47,
     "metadata": {},
     "output_type": "execute_result"
    }
   ],
   "source": [
    "B"
   ]
  },
  {
   "cell_type": "code",
   "execution_count": 48,
   "metadata": {
    "colab": {
     "base_uri": "https://localhost:8080/"
    },
    "id": "Xe3FtH0Zs6nX",
    "outputId": "cf1494f9-92e2-4634-e60a-5e3f0f8e693b"
   },
   "outputs": [
    {
     "data": {
      "text/plain": [
       "array([ 9, 10, 11, 12])"
      ]
     },
     "execution_count": 48,
     "metadata": {},
     "output_type": "execute_result"
    }
   ],
   "source": [
    "C"
   ]
  },
  {
   "cell_type": "code",
   "execution_count": 49,
   "metadata": {
    "colab": {
     "base_uri": "https://localhost:8080/"
    },
    "id": "0avUiYHqr4Lv",
    "outputId": "4d7ecd6b-a0d7-4d22-dcf6-9d7c6742463c"
   },
   "outputs": [
    {
     "data": {
      "text/plain": [
       "array([[ 1,  5,  9],\n",
       "       [ 2,  6, 10],\n",
       "       [ 3,  7, 11],\n",
       "       [ 4,  8, 12]])"
      ]
     },
     "execution_count": 49,
     "metadata": {},
     "output_type": "execute_result"
    }
   ],
   "source": [
    "np.column_stack((A,B,C))"
   ]
  },
  {
   "cell_type": "code",
   "execution_count": 50,
   "metadata": {
    "colab": {
     "base_uri": "https://localhost:8080/"
    },
    "id": "ax4iG0pdr7dQ",
    "outputId": "71d50484-04f7-4cc8-985a-91f5794eb907"
   },
   "outputs": [
    {
     "data": {
      "text/plain": [
       "array([1, 2, 3, 4, 5, 6, 7, 8])"
      ]
     },
     "execution_count": 50,
     "metadata": {},
     "output_type": "execute_result"
    }
   ],
   "source": [
    "np.hstack((A,B))"
   ]
  },
  {
   "cell_type": "markdown",
   "metadata": {
    "id": "nKeGjOWIsHCH"
   },
   "source": [
    "=> hstack() 함수는 1차원 배열을 입력받으면 그 결과는1차원\n",
    "- hstack()을 이용해 1차원 배열을 열 단위로 쌓으려면,  \n",
    "  newaxis를 이용해서 1차원 배열이 2차원 구조가 되도록 해야 함  \n",
    "- newaxis 속성은 2차원 컬럼 벡터를 갖도록 함  "
   ]
  },
  {
   "cell_type": "code",
   "execution_count": 51,
   "metadata": {
    "colab": {
     "base_uri": "https://localhost:8080/"
    },
    "id": "bWuaD7ZNsaFX",
    "outputId": "723b92f4-fb5a-4e30-d77c-5844f0350a04"
   },
   "outputs": [
    {
     "data": {
      "text/plain": [
       "array([[1],\n",
       "       [2],\n",
       "       [3],\n",
       "       [4]])"
      ]
     },
     "execution_count": 51,
     "metadata": {},
     "output_type": "execute_result"
    }
   ],
   "source": [
    "A[:, np.newaxis]  # 1차원 배열 -> 2차원 배열"
   ]
  },
  {
   "cell_type": "code",
   "execution_count": 52,
   "metadata": {
    "colab": {
     "base_uri": "https://localhost:8080/"
    },
    "id": "i6XWTwQlsfgv",
    "outputId": "8e54822a-4ddf-4d34-8aa2-7f11adebb5db"
   },
   "outputs": [
    {
     "data": {
      "text/plain": [
       "array([[1, 5],\n",
       "       [2, 6],\n",
       "       [3, 7],\n",
       "       [4, 8]])"
      ]
     },
     "execution_count": 52,
     "metadata": {},
     "output_type": "execute_result"
    }
   ],
   "source": [
    "np.hstack((A[:, np.newaxis], B[:, np.newaxis]))"
   ]
  },
  {
   "cell_type": "markdown",
   "metadata": {
    "id": "9X9Slw2muIgR"
   },
   "source": [
    "- row_stack()은 행단위로 쌇아 합침, 1차원의 데이터를 쌓을 때는 vstack()과 같은 결과를 반환"
   ]
  },
  {
   "cell_type": "code",
   "execution_count": 53,
   "metadata": {
    "colab": {
     "base_uri": "https://localhost:8080/"
    },
    "id": "voygtaxztvVY",
    "outputId": "86f9a6bc-d5b2-482d-94e8-ecd8381e71f0"
   },
   "outputs": [
    {
     "data": {
      "text/plain": [
       "array([[1, 2, 3, 4],\n",
       "       [5, 6, 7, 8]])"
      ]
     },
     "execution_count": 53,
     "metadata": {},
     "output_type": "execute_result"
    }
   ],
   "source": [
    "np.row_stack((A,B))"
   ]
  },
  {
   "cell_type": "code",
   "execution_count": 54,
   "metadata": {
    "colab": {
     "base_uri": "https://localhost:8080/"
    },
    "id": "MC9bFrJ5uDpg",
    "outputId": "ad57a357-bd95-40ce-d638-ace07f134805"
   },
   "outputs": [
    {
     "data": {
      "text/plain": [
       "array([[1, 2, 3, 4],\n",
       "       [5, 6, 7, 8]])"
      ]
     },
     "execution_count": 54,
     "metadata": {},
     "output_type": "execute_result"
    }
   ],
   "source": [
    "np.vstack((A,B))"
   ]
  },
  {
   "cell_type": "markdown",
   "metadata": {
    "id": "St0LpA8_uv1c"
   },
   "source": [
    "### 8-3. 쌓기 - stack()\n",
    "- **stack()** : 축 속성 axis의 값에 따라 배열을 합침\n",
    "- axis 매개 변수는 결과의 차원에서 새 축의 인덱스를 지정"
   ]
  },
  {
   "cell_type": "code",
   "execution_count": 55,
   "metadata": {
    "id": "fKjCxxDNuF-g"
   },
   "outputs": [],
   "source": [
    "A = np.arange(12).reshape((3,4))\n",
    "B = np.arange(12,24).reshape((3,4))"
   ]
  },
  {
   "cell_type": "code",
   "execution_count": 56,
   "metadata": {
    "colab": {
     "base_uri": "https://localhost:8080/"
    },
    "id": "l0PsnWLhvjn6",
    "outputId": "20cf6cbd-109b-4bf1-c8f1-c75b25ed730b"
   },
   "outputs": [
    {
     "data": {
      "text/plain": [
       "array([[ 0,  1,  2,  3],\n",
       "       [ 4,  5,  6,  7],\n",
       "       [ 8,  9, 10, 11]])"
      ]
     },
     "execution_count": 56,
     "metadata": {},
     "output_type": "execute_result"
    }
   ],
   "source": [
    "A"
   ]
  },
  {
   "cell_type": "code",
   "execution_count": 57,
   "metadata": {
    "colab": {
     "base_uri": "https://localhost:8080/"
    },
    "id": "PgZ50UbrvkZd",
    "outputId": "5a5761d0-8eb4-450e-ece1-01bb57028457"
   },
   "outputs": [
    {
     "data": {
      "text/plain": [
       "array([[12, 13, 14, 15],\n",
       "       [16, 17, 18, 19],\n",
       "       [20, 21, 22, 23]])"
      ]
     },
     "execution_count": 57,
     "metadata": {},
     "output_type": "execute_result"
    }
   ],
   "source": [
    "B"
   ]
  },
  {
   "cell_type": "code",
   "execution_count": 58,
   "metadata": {
    "colab": {
     "base_uri": "https://localhost:8080/"
    },
    "id": "w_hK8mYVvkvA",
    "outputId": "f1a92947-4ee9-41bd-9908-2dbd0ddcbf7a"
   },
   "outputs": [
    {
     "data": {
      "text/plain": [
       "array([[[ 0,  1,  2,  3],\n",
       "        [ 4,  5,  6,  7],\n",
       "        [ 8,  9, 10, 11]],\n",
       "\n",
       "       [[12, 13, 14, 15],\n",
       "        [16, 17, 18, 19],\n",
       "        [20, 21, 22, 23]]])"
      ]
     },
     "execution_count": 58,
     "metadata": {},
     "output_type": "execute_result"
    }
   ],
   "source": [
    "np.stack((A,B), axis=0)  # 깊이(차원) 별로 쌓임"
   ]
  },
  {
   "cell_type": "code",
   "execution_count": 59,
   "metadata": {
    "colab": {
     "base_uri": "https://localhost:8080/"
    },
    "id": "GhySJR1Svof5",
    "outputId": "d8129466-1b3f-41a0-dca5-2c248d10201d"
   },
   "outputs": [
    {
     "data": {
      "text/plain": [
       "array([[[ 0,  1,  2,  3],\n",
       "        [12, 13, 14, 15]],\n",
       "\n",
       "       [[ 4,  5,  6,  7],\n",
       "        [16, 17, 18, 19]],\n",
       "\n",
       "       [[ 8,  9, 10, 11],\n",
       "        [20, 21, 22, 23]]])"
      ]
     },
     "execution_count": 59,
     "metadata": {},
     "output_type": "execute_result"
    }
   ],
   "source": [
    "np.stack((A,B), axis=1)  # 행 별로 쌇임"
   ]
  },
  {
   "cell_type": "code",
   "execution_count": 60,
   "metadata": {
    "colab": {
     "base_uri": "https://localhost:8080/"
    },
    "id": "AWgAdBQCv6Jo",
    "outputId": "d96b6613-dc83-4b04-fd11-90266b9c6a5f"
   },
   "outputs": [
    {
     "data": {
      "text/plain": [
       "array([[[ 0, 12],\n",
       "        [ 1, 13],\n",
       "        [ 2, 14],\n",
       "        [ 3, 15]],\n",
       "\n",
       "       [[ 4, 16],\n",
       "        [ 5, 17],\n",
       "        [ 6, 18],\n",
       "        [ 7, 19]],\n",
       "\n",
       "       [[ 8, 20],\n",
       "        [ 9, 21],\n",
       "        [10, 22],\n",
       "        [11, 23]]])"
      ]
     },
     "execution_count": 60,
     "metadata": {},
     "output_type": "execute_result"
    }
   ],
   "source": [
    "np.stack((A,B), axis=2)  # 열 별로 쌇임,  axis=-1이면 마지막 차원"
   ]
  },
  {
   "cell_type": "markdown",
   "metadata": {
    "id": "OssrSvsTwIOJ"
   },
   "source": [
    "### 8-4. 쌓기 - r_[ ] 객체와 c_[ ] 객체\n",
    "-  r_[ ] 객체와 c_[ ] 객체는 한 개의 축을 따라 데이터를 나열해 배열을 만들때 유용"
   ]
  },
  {
   "cell_type": "code",
   "execution_count": 61,
   "metadata": {
    "id": "Mw0ZSQIyw-M4"
   },
   "outputs": [],
   "source": [
    "A = np.array((1,2,3,4))\n",
    "B = np.array((5,6,7,8))\n",
    "C = np.array((9,10,11,12))"
   ]
  },
  {
   "cell_type": "code",
   "execution_count": 62,
   "metadata": {
    "colab": {
     "base_uri": "https://localhost:8080/"
    },
    "id": "v9tT8uGbvYWA",
    "outputId": "9083151c-2459-4f74-c5ee-f328e39f7f7d"
   },
   "outputs": [
    {
     "data": {
      "text/plain": [
       "array([1, 2, 3, 4])"
      ]
     },
     "execution_count": 62,
     "metadata": {},
     "output_type": "execute_result"
    }
   ],
   "source": [
    "A"
   ]
  },
  {
   "cell_type": "code",
   "execution_count": 63,
   "metadata": {
    "colab": {
     "base_uri": "https://localhost:8080/"
    },
    "id": "IDuva79nxLh4",
    "outputId": "63a0597a-376a-4298-b5bc-b522786d6eb9"
   },
   "outputs": [
    {
     "data": {
      "text/plain": [
       "array([5, 6, 7, 8])"
      ]
     },
     "execution_count": 63,
     "metadata": {},
     "output_type": "execute_result"
    }
   ],
   "source": [
    "B"
   ]
  },
  {
   "cell_type": "code",
   "execution_count": 64,
   "metadata": {
    "colab": {
     "base_uri": "https://localhost:8080/"
    },
    "id": "PhEGz5RPxMS4",
    "outputId": "20981d9c-d729-4552-aacb-3427c3990a7c"
   },
   "outputs": [
    {
     "data": {
      "text/plain": [
       "array([ 9, 10, 11, 12])"
      ]
     },
     "execution_count": 64,
     "metadata": {},
     "output_type": "execute_result"
    }
   ],
   "source": [
    "C"
   ]
  },
  {
   "cell_type": "code",
   "execution_count": 65,
   "metadata": {
    "colab": {
     "base_uri": "https://localhost:8080/"
    },
    "id": "u02j_TYRxMyI",
    "outputId": "1997ec96-ccdd-4193-8f3b-06c907314c57"
   },
   "outputs": [
    {
     "data": {
      "text/plain": [
       "array([ 1,  2,  3,  4,  5,  6,  7,  8,  9, 10, 11, 12])"
      ]
     },
     "execution_count": 65,
     "metadata": {},
     "output_type": "execute_result"
    }
   ],
   "source": [
    "np.r_[A,B,C]  # 행 단위로 데이터를 쌇음"
   ]
  },
  {
   "cell_type": "code",
   "execution_count": 66,
   "metadata": {
    "colab": {
     "base_uri": "https://localhost:8080/"
    },
    "id": "-YLRvJMWxRFg",
    "outputId": "1388b7ff-9b18-4229-e5e6-9e6de192408f"
   },
   "outputs": [
    {
     "data": {
      "text/plain": [
       "array([[ 1,  5,  9],\n",
       "       [ 2,  6, 10],\n",
       "       [ 3,  7, 11],\n",
       "       [ 4,  8, 12]])"
      ]
     },
     "execution_count": 66,
     "metadata": {},
     "output_type": "execute_result"
    }
   ],
   "source": [
    "np.c_[A,B,C]  # 열 단위로 데이터를 쌇음, colum_stack()과 유사"
   ]
  },
  {
   "cell_type": "markdown",
   "metadata": {
    "id": "QI-u7VFTx_vZ"
   },
   "source": [
    "### 9-1. 나누기 - vsplit(), hsplit(), dsplit()\n",
    "- **vsplit()** : 수직 축을 따라 나눔. 배열을 위/아래로 나눔\n",
    "- **hsplit()** : 수평 축을 따라 나눔. 배열을 좌/우로 나눔\n",
    "- **dsplit()** : depth를 따라 나눔. dsplit()은 3차원 이상 배열에서만 동작"
   ]
  },
  {
   "cell_type": "code",
   "execution_count": 67,
   "metadata": {
    "id": "lT4OygSkxPIY"
   },
   "outputs": [],
   "source": [
    "A = np.arange(12).reshape(3,4)"
   ]
  },
  {
   "cell_type": "code",
   "execution_count": 68,
   "metadata": {
    "colab": {
     "base_uri": "https://localhost:8080/"
    },
    "id": "CrgCbG-F0026",
    "outputId": "72584d8d-fb31-4349-df54-efb1d51c0db8"
   },
   "outputs": [
    {
     "data": {
      "text/plain": [
       "array([[ 0,  1,  2,  3],\n",
       "       [ 4,  5,  6,  7],\n",
       "       [ 8,  9, 10, 11]])"
      ]
     },
     "execution_count": 68,
     "metadata": {},
     "output_type": "execute_result"
    }
   ],
   "source": [
    "A"
   ]
  },
  {
   "cell_type": "code",
   "execution_count": 69,
   "metadata": {
    "colab": {
     "base_uri": "https://localhost:8080/"
    },
    "id": "Icak52pj01lK",
    "outputId": "f0e56b30-dd8c-4f3a-eecd-fe344a063f97"
   },
   "outputs": [
    {
     "data": {
      "text/plain": [
       "[array([[0, 1, 2, 3]]), array([[4, 5, 6, 7]]), array([[ 8,  9, 10, 11]])]"
      ]
     },
     "execution_count": 69,
     "metadata": {},
     "output_type": "execute_result"
    }
   ],
   "source": [
    "np.vsplit(A, 3)"
   ]
  },
  {
   "cell_type": "code",
   "execution_count": 70,
   "metadata": {
    "colab": {
     "base_uri": "https://localhost:8080/"
    },
    "id": "BBL2yyQu05nZ",
    "outputId": "2e34a52e-de2f-4abe-ae67-f238b0804a4b"
   },
   "outputs": [
    {
     "data": {
      "text/plain": [
       "array([[0, 1, 2, 3]])"
      ]
     },
     "execution_count": 70,
     "metadata": {},
     "output_type": "execute_result"
    }
   ],
   "source": [
    "np.vsplit(A, 3)[0]"
   ]
  },
  {
   "cell_type": "code",
   "execution_count": 71,
   "metadata": {
    "colab": {
     "base_uri": "https://localhost:8080/"
    },
    "id": "Hf38Ipuv0-oJ",
    "outputId": "09e0af64-daaa-4ae3-9f56-fd9ec87ef1f6"
   },
   "outputs": [
    {
     "data": {
      "text/plain": [
       "[array([[0, 1],\n",
       "        [4, 5],\n",
       "        [8, 9]]),\n",
       " array([[ 2,  3],\n",
       "        [ 6,  7],\n",
       "        [10, 11]])]"
      ]
     },
     "execution_count": 71,
     "metadata": {},
     "output_type": "execute_result"
    }
   ],
   "source": [
    "np.hsplit(A,2)"
   ]
  },
  {
   "cell_type": "code",
   "execution_count": 72,
   "metadata": {
    "colab": {
     "base_uri": "https://localhost:8080/"
    },
    "id": "KuodBfYM1foZ",
    "outputId": "e4f37bbd-4bab-4966-ad6f-ea675fc3071a"
   },
   "outputs": [
    {
     "data": {
      "text/plain": [
       "[array([[0],\n",
       "        [4],\n",
       "        [8]]),\n",
       " array([[1],\n",
       "        [5],\n",
       "        [9]]),\n",
       " array([[ 2],\n",
       "        [ 6],\n",
       "        [10]]),\n",
       " array([[ 3],\n",
       "        [ 7],\n",
       "        [11]])]"
      ]
     },
     "execution_count": 72,
     "metadata": {},
     "output_type": "execute_result"
    }
   ],
   "source": [
    "np.hsplit(A, 4)"
   ]
  },
  {
   "cell_type": "code",
   "execution_count": 73,
   "metadata": {
    "id": "dHZ7uOY51iIp"
   },
   "outputs": [],
   "source": [
    "B = np.arange(24).reshape(2,3,4)"
   ]
  },
  {
   "cell_type": "code",
   "execution_count": 74,
   "metadata": {
    "colab": {
     "base_uri": "https://localhost:8080/"
    },
    "id": "uhMx6z-K1ocx",
    "outputId": "388612ae-e417-4b41-d7a5-b79ef1ca691b"
   },
   "outputs": [
    {
     "data": {
      "text/plain": [
       "array([[[ 0,  1,  2,  3],\n",
       "        [ 4,  5,  6,  7],\n",
       "        [ 8,  9, 10, 11]],\n",
       "\n",
       "       [[12, 13, 14, 15],\n",
       "        [16, 17, 18, 19],\n",
       "        [20, 21, 22, 23]]])"
      ]
     },
     "execution_count": 74,
     "metadata": {},
     "output_type": "execute_result"
    }
   ],
   "source": [
    "B"
   ]
  },
  {
   "cell_type": "code",
   "execution_count": 75,
   "metadata": {
    "colab": {
     "base_uri": "https://localhost:8080/"
    },
    "id": "CAXcpvNz1pHC",
    "outputId": "f2287935-35de-47aa-cbc6-efa1dc7bbea1"
   },
   "outputs": [
    {
     "data": {
      "text/plain": [
       "[array([[[ 0,  1],\n",
       "         [ 4,  5],\n",
       "         [ 8,  9]],\n",
       " \n",
       "        [[12, 13],\n",
       "         [16, 17],\n",
       "         [20, 21]]]),\n",
       " array([[[ 2,  3],\n",
       "         [ 6,  7],\n",
       "         [10, 11]],\n",
       " \n",
       "        [[14, 15],\n",
       "         [18, 19],\n",
       "         [22, 23]]])]"
      ]
     },
     "execution_count": 75,
     "metadata": {},
     "output_type": "execute_result"
    }
   ],
   "source": [
    "np.dsplit(B, 2)"
   ]
  },
  {
   "cell_type": "markdown",
   "metadata": {
    "id": "N2BK4Ou31O3Z"
   },
   "source": [
    "### 9-2. 나누기 - split()\n",
    "- vsplit(), hsplit(), dsplit()과 비슷하지만,  \n",
    "  **split()** : axis 파라미터를 가질 수 있음\n",
    "- axis=0 이면 vsplit(), axis=1인 경우 hsplit() 그리고 axis=2는 dsplit()과 동일하게 동작"
   ]
  },
  {
   "cell_type": "code",
   "execution_count": 76,
   "metadata": {
    "colab": {
     "base_uri": "https://localhost:8080/"
    },
    "id": "hwXBhiE92Irh",
    "outputId": "7024cd16-c1a9-4a74-f6be-2bd101e9af85"
   },
   "outputs": [
    {
     "data": {
      "text/plain": [
       "array([[ 0,  1,  2,  3],\n",
       "       [ 4,  5,  6,  7],\n",
       "       [ 8,  9, 10, 11]])"
      ]
     },
     "execution_count": 76,
     "metadata": {},
     "output_type": "execute_result"
    }
   ],
   "source": [
    "A"
   ]
  },
  {
   "cell_type": "code",
   "execution_count": 77,
   "metadata": {
    "colab": {
     "base_uri": "https://localhost:8080/"
    },
    "id": "44ax6qGJ2Ryy",
    "outputId": "607f9d29-b891-4dfe-fed5-1189a0240856"
   },
   "outputs": [
    {
     "data": {
      "text/plain": [
       "[array([[0, 1, 2, 3]]), array([[4, 5, 6, 7]]), array([[ 8,  9, 10, 11]])]"
      ]
     },
     "execution_count": 77,
     "metadata": {},
     "output_type": "execute_result"
    }
   ],
   "source": [
    "np.split(A, 3, axis=0)"
   ]
  },
  {
   "cell_type": "code",
   "execution_count": 78,
   "metadata": {
    "colab": {
     "base_uri": "https://localhost:8080/"
    },
    "id": "kBSUhmAt2rPh",
    "outputId": "af6beff8-4e80-46fe-ffed-df1136af1b77"
   },
   "outputs": [
    {
     "data": {
      "text/plain": [
       "[array([[0, 1, 2, 3]]), array([[4, 5, 6, 7]]), array([[ 8,  9, 10, 11]])]"
      ]
     },
     "execution_count": 78,
     "metadata": {},
     "output_type": "execute_result"
    }
   ],
   "source": [
    "np.vsplit(A, 3)"
   ]
  },
  {
   "cell_type": "code",
   "execution_count": 79,
   "metadata": {
    "colab": {
     "base_uri": "https://localhost:8080/"
    },
    "id": "0QSg5pkN2VoZ",
    "outputId": "ba33056e-33aa-4bfd-d890-7d1c8cf87e12"
   },
   "outputs": [
    {
     "data": {
      "text/plain": [
       "[array([[0, 1],\n",
       "        [4, 5],\n",
       "        [8, 9]]),\n",
       " array([[ 2,  3],\n",
       "        [ 6,  7],\n",
       "        [10, 11]])]"
      ]
     },
     "execution_count": 79,
     "metadata": {},
     "output_type": "execute_result"
    }
   ],
   "source": [
    "np.split(A, 2, axis=1)"
   ]
  },
  {
   "cell_type": "code",
   "execution_count": 80,
   "metadata": {
    "colab": {
     "base_uri": "https://localhost:8080/"
    },
    "id": "qzuaNmVA2m_J",
    "outputId": "64470624-cd23-4287-84d7-dd13f70a7f19"
   },
   "outputs": [
    {
     "data": {
      "text/plain": [
       "[array([[0, 1],\n",
       "        [4, 5],\n",
       "        [8, 9]]),\n",
       " array([[ 2,  3],\n",
       "        [ 6,  7],\n",
       "        [10, 11]])]"
      ]
     },
     "execution_count": 80,
     "metadata": {},
     "output_type": "execute_result"
    }
   ],
   "source": [
    "np.hsplit(A, 2)"
   ]
  },
  {
   "cell_type": "code",
   "execution_count": 81,
   "metadata": {
    "colab": {
     "base_uri": "https://localhost:8080/"
    },
    "id": "foE4dZFL2czh",
    "outputId": "9fb37157-81ba-42c4-a6e9-99339ca52c5d"
   },
   "outputs": [
    {
     "data": {
      "text/plain": [
       "array([[[ 0,  1,  2,  3],\n",
       "        [ 4,  5,  6,  7],\n",
       "        [ 8,  9, 10, 11]],\n",
       "\n",
       "       [[12, 13, 14, 15],\n",
       "        [16, 17, 18, 19],\n",
       "        [20, 21, 22, 23]]])"
      ]
     },
     "execution_count": 81,
     "metadata": {},
     "output_type": "execute_result"
    }
   ],
   "source": [
    "B"
   ]
  },
  {
   "cell_type": "code",
   "execution_count": 82,
   "metadata": {
    "colab": {
     "base_uri": "https://localhost:8080/"
    },
    "id": "wbBPR_8a2hmS",
    "outputId": "8e115a37-362d-48f9-91f3-519ef0be4fa2"
   },
   "outputs": [
    {
     "data": {
      "text/plain": [
       "[array([[[ 0,  1],\n",
       "         [ 4,  5],\n",
       "         [ 8,  9]],\n",
       " \n",
       "        [[12, 13],\n",
       "         [16, 17],\n",
       "         [20, 21]]]),\n",
       " array([[[ 2,  3],\n",
       "         [ 6,  7],\n",
       "         [10, 11]],\n",
       " \n",
       "        [[14, 15],\n",
       "         [18, 19],\n",
       "         [22, 23]]])]"
      ]
     },
     "execution_count": 82,
     "metadata": {},
     "output_type": "execute_result"
    }
   ],
   "source": [
    "np.split(B, 2, axis=2)"
   ]
  },
  {
   "cell_type": "markdown",
   "metadata": {
    "id": "qd4mFVMU3G9y"
   },
   "source": [
    "### 9-3. 나누기 - axis=1\n",
    "- hsplit() 함수는 split() 함수의 axis 매개 변수가 1일 때와 같음  \n",
    "- 배열의 차원에 상관없이 항상 두번째 축을 이용해 분할"
   ]
  },
  {
   "cell_type": "code",
   "execution_count": 83,
   "metadata": {
    "id": "PS4S9ufa3WdB"
   },
   "outputs": [],
   "source": [
    "C = np.arange(24).reshape(2,3,4)"
   ]
  },
  {
   "cell_type": "code",
   "execution_count": 84,
   "metadata": {
    "colab": {
     "base_uri": "https://localhost:8080/"
    },
    "id": "zGp0utcU4LDq",
    "outputId": "c9b0242b-aae1-4d32-b4b8-aca9f70b1548"
   },
   "outputs": [
    {
     "data": {
      "text/plain": [
       "array([[[ 0,  1,  2,  3],\n",
       "        [ 4,  5,  6,  7],\n",
       "        [ 8,  9, 10, 11]],\n",
       "\n",
       "       [[12, 13, 14, 15],\n",
       "        [16, 17, 18, 19],\n",
       "        [20, 21, 22, 23]]])"
      ]
     },
     "execution_count": 84,
     "metadata": {},
     "output_type": "execute_result"
    }
   ],
   "source": [
    "C"
   ]
  },
  {
   "cell_type": "code",
   "execution_count": 85,
   "metadata": {
    "colab": {
     "base_uri": "https://localhost:8080/"
    },
    "id": "4-dDs3Qe4LUc",
    "outputId": "312527ed-ea4f-47bc-f3f8-08a11b5e9762"
   },
   "outputs": [
    {
     "data": {
      "text/plain": [
       "[array([[[ 0,  1,  2,  3]],\n",
       " \n",
       "        [[12, 13, 14, 15]]]),\n",
       " array([[[ 4,  5,  6,  7]],\n",
       " \n",
       "        [[16, 17, 18, 19]]]),\n",
       " array([[[ 8,  9, 10, 11]],\n",
       " \n",
       "        [[20, 21, 22, 23]]])]"
      ]
     },
     "execution_count": 85,
     "metadata": {},
     "output_type": "execute_result"
    }
   ],
   "source": [
    "c_hsplit = np.hsplit(C, 3)\n",
    "c_hsplit"
   ]
  },
  {
   "cell_type": "markdown",
   "metadata": {
    "id": "7ZBa4PDl4ami"
   },
   "source": [
    "### 9-4. 나누기 - 인덱스 목록으로 나누기\n",
    "- 분할하기 위한 인수를 튜플 형식으로 지정하면 해당 인덱스를 기준으로 나눔"
   ]
  },
  {
   "cell_type": "code",
   "execution_count": 86,
   "metadata": {
    "colab": {
     "base_uri": "https://localhost:8080/"
    },
    "id": "_q6R6ibN1Azh",
    "outputId": "7db57072-eb6c-4784-8d16-add98d1bfe3e"
   },
   "outputs": [
    {
     "data": {
      "text/plain": [
       "array([[ 0,  1,  2,  3,  4,  5,  6,  7],\n",
       "       [ 8,  9, 10, 11, 12, 13, 14, 15],\n",
       "       [16, 17, 18, 19, 20, 21, 22, 23]])"
      ]
     },
     "execution_count": 86,
     "metadata": {},
     "output_type": "execute_result"
    }
   ],
   "source": [
    "A = np.arange(24).reshape(3,8)\n",
    "A"
   ]
  },
  {
   "cell_type": "code",
   "execution_count": 87,
   "metadata": {
    "colab": {
     "base_uri": "https://localhost:8080/"
    },
    "id": "ndgFI8LR4tRi",
    "outputId": "29f01882-adaa-4175-f868-b42dc9ba27ab"
   },
   "outputs": [
    {
     "data": {
      "text/plain": [
       "[array([[ 0,  1],\n",
       "        [ 8,  9],\n",
       "        [16, 17]]),\n",
       " array([[ 2,  3,  4],\n",
       "        [10, 11, 12],\n",
       "        [18, 19, 20]]),\n",
       " array([[ 5],\n",
       "        [13],\n",
       "        [21]]),\n",
       " array([[ 6,  7],\n",
       "        [14, 15],\n",
       "        [22, 23]])]"
      ]
     },
     "execution_count": 87,
     "metadata": {},
     "output_type": "execute_result"
    }
   ],
   "source": [
    "np.hsplit(A, (2,5,6))  # 첫 인덱스부터 튜플로 지정한 각각의 인덱스까지 각각 부분 집합을 생성함"
   ]
  },
  {
   "cell_type": "markdown",
   "metadata": {
    "id": "8w12ALpD5KGy"
   },
   "source": [
    "### 9-4. 나누기 - array_split()\n",
    "- split()과 차이점은 indices_or_sections를 **균등 분할하지 않아도 사용**할 수 있다는 것  \n",
    "- n개로 나눠야하는 길이 l배열은 (l//n)+1 크기 l%n개 배열과 나머지(l//n)배열 반환  "
   ]
  },
  {
   "cell_type": "code",
   "execution_count": 88,
   "metadata": {
    "colab": {
     "base_uri": "https://localhost:8080/"
    },
    "id": "oHSvpffq5FWS",
    "outputId": "a4a405bf-9835-460c-895c-281c86eaeaec"
   },
   "outputs": [
    {
     "data": {
      "text/plain": [
       "array([[ 0,  1,  2,  3],\n",
       "       [ 4,  5,  6,  7],\n",
       "       [ 8,  9, 10, 11]])"
      ]
     },
     "execution_count": 88,
     "metadata": {},
     "output_type": "execute_result"
    }
   ],
   "source": [
    "A = np.arange(12).reshape(3,4)\n",
    "A"
   ]
  },
  {
   "cell_type": "code",
   "execution_count": 89,
   "metadata": {
    "colab": {
     "base_uri": "https://localhost:8080/",
     "height": 276
    },
    "id": "RKN8e3zx520q",
    "outputId": "63243a2f-45a9-4935-91e2-3e55beeb30ec"
   },
   "outputs": [
    {
     "ename": "ValueError",
     "evalue": "array split does not result in an equal division",
     "output_type": "error",
     "traceback": [
      "\u001b[0;31m---------------------------------------------------------------------------\u001b[0m",
      "\u001b[0;31mValueError\u001b[0m                                Traceback (most recent call last)",
      "\u001b[0;32m<ipython-input-89-c36dcd472fa6>\u001b[0m in \u001b[0;36m<cell line: 1>\u001b[0;34m()\u001b[0m\n\u001b[0;32m----> 1\u001b[0;31m \u001b[0mnp\u001b[0m\u001b[0;34m.\u001b[0m\u001b[0msplit\u001b[0m\u001b[0;34m(\u001b[0m\u001b[0mA\u001b[0m\u001b[0;34m,\u001b[0m \u001b[0;36m2\u001b[0m\u001b[0;34m)\u001b[0m  \u001b[0;31m# 3행이므로 2로 균등분할 불가\u001b[0m\u001b[0;34m\u001b[0m\u001b[0;34m\u001b[0m\u001b[0m\n\u001b[0m",
      "\u001b[0;32m/usr/local/lib/python3.10/dist-packages/numpy/lib/shape_base.py\u001b[0m in \u001b[0;36msplit\u001b[0;34m(ary, indices_or_sections, axis)\u001b[0m\n\u001b[1;32m    862\u001b[0m         \u001b[0mN\u001b[0m \u001b[0;34m=\u001b[0m \u001b[0mary\u001b[0m\u001b[0;34m.\u001b[0m\u001b[0mshape\u001b[0m\u001b[0;34m[\u001b[0m\u001b[0maxis\u001b[0m\u001b[0;34m]\u001b[0m\u001b[0;34m\u001b[0m\u001b[0;34m\u001b[0m\u001b[0m\n\u001b[1;32m    863\u001b[0m         \u001b[0;32mif\u001b[0m \u001b[0mN\u001b[0m \u001b[0;34m%\u001b[0m \u001b[0msections\u001b[0m\u001b[0;34m:\u001b[0m\u001b[0;34m\u001b[0m\u001b[0;34m\u001b[0m\u001b[0m\n\u001b[0;32m--> 864\u001b[0;31m             raise ValueError(\n\u001b[0m\u001b[1;32m    865\u001b[0m                 'array split does not result in an equal division') from None\n\u001b[1;32m    866\u001b[0m     \u001b[0;32mreturn\u001b[0m \u001b[0marray_split\u001b[0m\u001b[0;34m(\u001b[0m\u001b[0mary\u001b[0m\u001b[0;34m,\u001b[0m \u001b[0mindices_or_sections\u001b[0m\u001b[0;34m,\u001b[0m \u001b[0maxis\u001b[0m\u001b[0;34m)\u001b[0m\u001b[0;34m\u001b[0m\u001b[0;34m\u001b[0m\u001b[0m\n",
      "\u001b[0;31mValueError\u001b[0m: array split does not result in an equal division"
     ]
    }
   ],
   "source": [
    "np.split(A, 2)  # 3행이므로 2로 균등분할 불가"
   ]
  },
  {
   "cell_type": "code",
   "execution_count": 90,
   "metadata": {
    "colab": {
     "base_uri": "https://localhost:8080/"
    },
    "id": "Jx9ojFzE6cXr",
    "outputId": "65bcde15-873f-452a-8e64-151c02951c2f"
   },
   "outputs": [
    {
     "data": {
      "text/plain": [
       "[array([[0, 1],\n",
       "        [4, 5],\n",
       "        [8, 9]]),\n",
       " array([[ 2,  3],\n",
       "        [ 6,  7],\n",
       "        [10, 11]])]"
      ]
     },
     "execution_count": 90,
     "metadata": {},
     "output_type": "execute_result"
    }
   ],
   "source": [
    "np.split(A, 2, axis=1)"
   ]
  },
  {
   "cell_type": "code",
   "execution_count": 91,
   "metadata": {
    "colab": {
     "base_uri": "https://localhost:8080/"
    },
    "id": "KIm-BOOX6BnK",
    "outputId": "5f308373-298e-496a-cf09-6c440d8f399a"
   },
   "outputs": [
    {
     "data": {
      "text/plain": [
       "[array([[0, 1, 2, 3],\n",
       "        [4, 5, 6, 7]]),\n",
       " array([[ 8,  9, 10, 11]])]"
      ]
     },
     "execution_count": 91,
     "metadata": {},
     "output_type": "execute_result"
    }
   ],
   "source": [
    "np.array_split(A, 2, axis=0)"
   ]
  },
  {
   "cell_type": "code",
   "execution_count": 92,
   "metadata": {
    "colab": {
     "base_uri": "https://localhost:8080/"
    },
    "id": "yPEiGax_6o9r",
    "outputId": "cedeb990-00ae-49df-b524-134931f5a576"
   },
   "outputs": [
    {
     "data": {
      "text/plain": [
       "array([0, 1, 2, 3, 4, 5, 6, 7, 8, 9])"
      ]
     },
     "execution_count": 92,
     "metadata": {},
     "output_type": "execute_result"
    }
   ],
   "source": [
    "A = np.arange(10)\n",
    "A"
   ]
  },
  {
   "cell_type": "code",
   "execution_count": 93,
   "metadata": {
    "colab": {
     "base_uri": "https://localhost:8080/",
     "height": 276
    },
    "id": "ArqrQA756yyi",
    "outputId": "e89575a6-9ba9-477b-e0c8-8f5d417af093"
   },
   "outputs": [
    {
     "ename": "AttributeError",
     "evalue": "module 'numpy' has no attribute 'splite'",
     "output_type": "error",
     "traceback": [
      "\u001b[0;31m---------------------------------------------------------------------------\u001b[0m",
      "\u001b[0;31mAttributeError\u001b[0m                            Traceback (most recent call last)",
      "\u001b[0;32m<ipython-input-93-b0f80126928a>\u001b[0m in \u001b[0;36m<cell line: 1>\u001b[0;34m()\u001b[0m\n\u001b[0;32m----> 1\u001b[0;31m \u001b[0mnp\u001b[0m\u001b[0;34m.\u001b[0m\u001b[0msplite\u001b[0m\u001b[0;34m(\u001b[0m\u001b[0mA\u001b[0m\u001b[0;34m,\u001b[0m \u001b[0;36m4\u001b[0m\u001b[0;34m)\u001b[0m\u001b[0;34m\u001b[0m\u001b[0;34m\u001b[0m\u001b[0m\n\u001b[0m",
      "\u001b[0;32m/usr/local/lib/python3.10/dist-packages/numpy/__init__.py\u001b[0m in \u001b[0;36m__getattr__\u001b[0;34m(attr)\u001b[0m\n\u001b[1;32m    331\u001b[0m             \u001b[0;32mraise\u001b[0m \u001b[0mRuntimeError\u001b[0m\u001b[0;34m(\u001b[0m\u001b[0;34m\"Tester was removed in NumPy 1.25.\"\u001b[0m\u001b[0;34m)\u001b[0m\u001b[0;34m\u001b[0m\u001b[0;34m\u001b[0m\u001b[0m\n\u001b[1;32m    332\u001b[0m \u001b[0;34m\u001b[0m\u001b[0m\n\u001b[0;32m--> 333\u001b[0;31m         raise AttributeError(\"module {!r} has no attribute \"\n\u001b[0m\u001b[1;32m    334\u001b[0m                              \"{!r}\".format(__name__, attr))\n\u001b[1;32m    335\u001b[0m \u001b[0;34m\u001b[0m\u001b[0m\n",
      "\u001b[0;31mAttributeError\u001b[0m: module 'numpy' has no attribute 'splite'"
     ]
    }
   ],
   "source": [
    "np.splite(A, 4)"
   ]
  },
  {
   "cell_type": "code",
   "execution_count": 94,
   "metadata": {
    "colab": {
     "base_uri": "https://localhost:8080/"
    },
    "id": "vYL_skDR61fS",
    "outputId": "caa42b91-3781-4626-e5b2-c588ce6dfc23"
   },
   "outputs": [
    {
     "data": {
      "text/plain": [
       "[array([0, 1, 2]), array([3, 4, 5]), array([6, 7]), array([8, 9])]"
      ]
     },
     "execution_count": 94,
     "metadata": {},
     "output_type": "execute_result"
    }
   ],
   "source": [
    "np.array_split(A, 4)"
   ]
  }
 ],
 "metadata": {
  "colab": {
   "provenance": []
  },
  "kernelspec": {
   "display_name": "Python 3 (ipykernel)",
   "language": "python",
   "name": "python3"
  },
  "language_info": {
   "codemirror_mode": {
    "name": "ipython",
    "version": 3
   },
   "file_extension": ".py",
   "mimetype": "text/x-python",
   "name": "python",
   "nbconvert_exporter": "python",
   "pygments_lexer": "ipython3",
   "version": "3.11.5"
  }
 },
 "nbformat": 4,
 "nbformat_minor": 1
}
